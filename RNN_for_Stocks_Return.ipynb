{
  "nbformat": 4,
  "nbformat_minor": 0,
  "metadata": {
    "colab": {
      "provenance": []
    },
    "kernelspec": {
      "name": "python3",
      "display_name": "Python 3"
    },
    "language_info": {
      "name": "python"
    }
  },
  "cells": [
    {
      "cell_type": "markdown",
      "source": [
        "### Disclaimer: Time Series alone cannot predict Stocks Prices, since its values are not predictive and mostly affected by real life occurances."
      ],
      "metadata": {
        "id": "fUwLo26h5yCd"
      }
    },
    {
      "cell_type": "code",
      "execution_count": 1,
      "metadata": {
        "id": "TrglkNRn_8B9"
      },
      "outputs": [],
      "source": [
        "# libraries\n",
        "from tensorflow.keras.layers import Input, LSTM, GRU, SimpleRNN, Dense, GlobalMaxPool1D\n",
        "from tensorflow.keras.models import Model\n",
        "from tensorflow.keras.optimizers import SGD, Adam\n",
        "\n",
        "import numpy as np\n",
        "import pandas as pd\n",
        "import matplotlib.pyplot as plt\n",
        "from sklearn.preprocessing import StandardScaler"
      ]
    },
    {
      "cell_type": "code",
      "source": [
        "# read dataframe from the URL\n",
        "data = pd.read_csv('https://raw.githubusercontent.com/Islambekkurakbay/Stock_Return_Prediction_LSTM/main/AMZN.csv')\n",
        "data.head()"
      ],
      "metadata": {
        "colab": {
          "base_uri": "https://localhost:8080/",
          "height": 206
        },
        "id": "5JWCAZo02HF7",
        "outputId": "189dd728-93ed-4cb6-ac5d-5f83a12f1fff"
      },
      "execution_count": 3,
      "outputs": [
        {
          "output_type": "execute_result",
          "data": {
            "text/plain": [
              "         Date       Open       High        Low      Close  Adj Close  \\\n",
              "0  2018-03-09  78.175003  78.946999  77.954002  78.944504  78.944504   \n",
              "1  2018-03-12  79.629997  80.266502  79.334999  79.919502  79.919502   \n",
              "2  2018-03-13  80.797997  80.876999  78.900497  79.408997  79.408997   \n",
              "3  2018-03-14  79.849998  80.321999  79.544502  79.550003  79.550003   \n",
              "4  2018-03-15  79.750000  79.845497  78.905502  79.115997  79.115997   \n",
              "\n",
              "      Volume  \n",
              "0   90686000  \n",
              "1  103484000  \n",
              "2  130638000  \n",
              "3   85188000  \n",
              "4   81394000  "
            ],
            "text/html": [
              "\n",
              "  <div id=\"df-5f4dc57a-e527-47a2-8e50-e60ced04823d\">\n",
              "    <div class=\"colab-df-container\">\n",
              "      <div>\n",
              "<style scoped>\n",
              "    .dataframe tbody tr th:only-of-type {\n",
              "        vertical-align: middle;\n",
              "    }\n",
              "\n",
              "    .dataframe tbody tr th {\n",
              "        vertical-align: top;\n",
              "    }\n",
              "\n",
              "    .dataframe thead th {\n",
              "        text-align: right;\n",
              "    }\n",
              "</style>\n",
              "<table border=\"1\" class=\"dataframe\">\n",
              "  <thead>\n",
              "    <tr style=\"text-align: right;\">\n",
              "      <th></th>\n",
              "      <th>Date</th>\n",
              "      <th>Open</th>\n",
              "      <th>High</th>\n",
              "      <th>Low</th>\n",
              "      <th>Close</th>\n",
              "      <th>Adj Close</th>\n",
              "      <th>Volume</th>\n",
              "    </tr>\n",
              "  </thead>\n",
              "  <tbody>\n",
              "    <tr>\n",
              "      <th>0</th>\n",
              "      <td>2018-03-09</td>\n",
              "      <td>78.175003</td>\n",
              "      <td>78.946999</td>\n",
              "      <td>77.954002</td>\n",
              "      <td>78.944504</td>\n",
              "      <td>78.944504</td>\n",
              "      <td>90686000</td>\n",
              "    </tr>\n",
              "    <tr>\n",
              "      <th>1</th>\n",
              "      <td>2018-03-12</td>\n",
              "      <td>79.629997</td>\n",
              "      <td>80.266502</td>\n",
              "      <td>79.334999</td>\n",
              "      <td>79.919502</td>\n",
              "      <td>79.919502</td>\n",
              "      <td>103484000</td>\n",
              "    </tr>\n",
              "    <tr>\n",
              "      <th>2</th>\n",
              "      <td>2018-03-13</td>\n",
              "      <td>80.797997</td>\n",
              "      <td>80.876999</td>\n",
              "      <td>78.900497</td>\n",
              "      <td>79.408997</td>\n",
              "      <td>79.408997</td>\n",
              "      <td>130638000</td>\n",
              "    </tr>\n",
              "    <tr>\n",
              "      <th>3</th>\n",
              "      <td>2018-03-14</td>\n",
              "      <td>79.849998</td>\n",
              "      <td>80.321999</td>\n",
              "      <td>79.544502</td>\n",
              "      <td>79.550003</td>\n",
              "      <td>79.550003</td>\n",
              "      <td>85188000</td>\n",
              "    </tr>\n",
              "    <tr>\n",
              "      <th>4</th>\n",
              "      <td>2018-03-15</td>\n",
              "      <td>79.750000</td>\n",
              "      <td>79.845497</td>\n",
              "      <td>78.905502</td>\n",
              "      <td>79.115997</td>\n",
              "      <td>79.115997</td>\n",
              "      <td>81394000</td>\n",
              "    </tr>\n",
              "  </tbody>\n",
              "</table>\n",
              "</div>\n",
              "      <button class=\"colab-df-convert\" onclick=\"convertToInteractive('df-5f4dc57a-e527-47a2-8e50-e60ced04823d')\"\n",
              "              title=\"Convert this dataframe to an interactive table.\"\n",
              "              style=\"display:none;\">\n",
              "        \n",
              "  <svg xmlns=\"http://www.w3.org/2000/svg\" height=\"24px\"viewBox=\"0 0 24 24\"\n",
              "       width=\"24px\">\n",
              "    <path d=\"M0 0h24v24H0V0z\" fill=\"none\"/>\n",
              "    <path d=\"M18.56 5.44l.94 2.06.94-2.06 2.06-.94-2.06-.94-.94-2.06-.94 2.06-2.06.94zm-11 1L8.5 8.5l.94-2.06 2.06-.94-2.06-.94L8.5 2.5l-.94 2.06-2.06.94zm10 10l.94 2.06.94-2.06 2.06-.94-2.06-.94-.94-2.06-.94 2.06-2.06.94z\"/><path d=\"M17.41 7.96l-1.37-1.37c-.4-.4-.92-.59-1.43-.59-.52 0-1.04.2-1.43.59L10.3 9.45l-7.72 7.72c-.78.78-.78 2.05 0 2.83L4 21.41c.39.39.9.59 1.41.59.51 0 1.02-.2 1.41-.59l7.78-7.78 2.81-2.81c.8-.78.8-2.07 0-2.86zM5.41 20L4 18.59l7.72-7.72 1.47 1.35L5.41 20z\"/>\n",
              "  </svg>\n",
              "      </button>\n",
              "      \n",
              "  <style>\n",
              "    .colab-df-container {\n",
              "      display:flex;\n",
              "      flex-wrap:wrap;\n",
              "      gap: 12px;\n",
              "    }\n",
              "\n",
              "    .colab-df-convert {\n",
              "      background-color: #E8F0FE;\n",
              "      border: none;\n",
              "      border-radius: 50%;\n",
              "      cursor: pointer;\n",
              "      display: none;\n",
              "      fill: #1967D2;\n",
              "      height: 32px;\n",
              "      padding: 0 0 0 0;\n",
              "      width: 32px;\n",
              "    }\n",
              "\n",
              "    .colab-df-convert:hover {\n",
              "      background-color: #E2EBFA;\n",
              "      box-shadow: 0px 1px 2px rgba(60, 64, 67, 0.3), 0px 1px 3px 1px rgba(60, 64, 67, 0.15);\n",
              "      fill: #174EA6;\n",
              "    }\n",
              "\n",
              "    [theme=dark] .colab-df-convert {\n",
              "      background-color: #3B4455;\n",
              "      fill: #D2E3FC;\n",
              "    }\n",
              "\n",
              "    [theme=dark] .colab-df-convert:hover {\n",
              "      background-color: #434B5C;\n",
              "      box-shadow: 0px 1px 3px 1px rgba(0, 0, 0, 0.15);\n",
              "      filter: drop-shadow(0px 1px 2px rgba(0, 0, 0, 0.3));\n",
              "      fill: #FFFFFF;\n",
              "    }\n",
              "  </style>\n",
              "\n",
              "      <script>\n",
              "        const buttonEl =\n",
              "          document.querySelector('#df-5f4dc57a-e527-47a2-8e50-e60ced04823d button.colab-df-convert');\n",
              "        buttonEl.style.display =\n",
              "          google.colab.kernel.accessAllowed ? 'block' : 'none';\n",
              "\n",
              "        async function convertToInteractive(key) {\n",
              "          const element = document.querySelector('#df-5f4dc57a-e527-47a2-8e50-e60ced04823d');\n",
              "          const dataTable =\n",
              "            await google.colab.kernel.invokeFunction('convertToInteractive',\n",
              "                                                     [key], {});\n",
              "          if (!dataTable) return;\n",
              "\n",
              "          const docLinkHtml = 'Like what you see? Visit the ' +\n",
              "            '<a target=\"_blank\" href=https://colab.research.google.com/notebooks/data_table.ipynb>data table notebook</a>'\n",
              "            + ' to learn more about interactive tables.';\n",
              "          element.innerHTML = '';\n",
              "          dataTable['output_type'] = 'display_data';\n",
              "          await google.colab.output.renderOutput(dataTable, element);\n",
              "          const docLink = document.createElement('div');\n",
              "          docLink.innerHTML = docLinkHtml;\n",
              "          element.appendChild(docLink);\n",
              "        }\n",
              "      </script>\n",
              "    </div>\n",
              "  </div>\n",
              "  "
            ]
          },
          "metadata": {},
          "execution_count": 3
        }
      ]
    },
    {
      "cell_type": "markdown",
      "source": [
        "### Trying LSTM to predict Stock Close Prices"
      ],
      "metadata": {
        "id": "V1gEc7qlvfqd"
      }
    },
    {
      "cell_type": "code",
      "source": [
        "series = data['Close'].values.reshape(-1, 1)\n",
        "print(series.shape)"
      ],
      "metadata": {
        "colab": {
          "base_uri": "https://localhost:8080/"
        },
        "id": "hHde_Q113V_H",
        "outputId": "bcb275e2-d674-409c-df44-b07310226a42"
      },
      "execution_count": 4,
      "outputs": [
        {
          "output_type": "stream",
          "name": "stdout",
          "text": [
            "(1258, 1)\n"
          ]
        }
      ]
    },
    {
      "cell_type": "code",
      "source": [
        "# Normalize the data\n",
        "scaler = StandardScaler()\n",
        "scaler.fit(series[:len(series) // 2])\n",
        "series = scaler.transform(series).flatten()\n",
        "\n",
        "print(series.shape)"
      ],
      "metadata": {
        "colab": {
          "base_uri": "https://localhost:8080/"
        },
        "id": "vSMmeJwF6TBy",
        "outputId": "70386879-17ce-4e00-ba72-fec28906055a"
      },
      "execution_count": 5,
      "outputs": [
        {
          "output_type": "stream",
          "name": "stdout",
          "text": [
            "(1258,)\n"
          ]
        }
      ]
    },
    {
      "cell_type": "code",
      "source": [
        "# build the dataset\n",
        "T = 10\n",
        "D = 1\n",
        "X, Y = [], []\n",
        "\n",
        "for i in range(len(series) - T):\n",
        "  x = series[i:i+T]\n",
        "  X.append(x)\n",
        "  y = series[i+T]\n",
        "  Y.append(y)\n",
        "\n",
        "X = np.array(X).reshape(-1, T, 1)  # NxTxD\n",
        "Y = np.array(Y)\n",
        "N = len(X)\n",
        "print(f\"X.shape {X.shape} Y.shape {Y.shape}\")"
      ],
      "metadata": {
        "colab": {
          "base_uri": "https://localhost:8080/"
        },
        "id": "2oKDKcby6a4m",
        "outputId": "05f20da9-5c74-4426-f724-f5891f29b0ea"
      },
      "execution_count": 6,
      "outputs": [
        {
          "output_type": "stream",
          "name": "stdout",
          "text": [
            "X.shape (1248, 10, 1) Y.shape (1248,)\n"
          ]
        }
      ]
    },
    {
      "cell_type": "code",
      "source": [
        "# autoregressive RNN model\n",
        "i = Input(shape = (T, 1))\n",
        "x = LSTM(5)(i)\n",
        "x = Dense(1)(x)\n",
        "\n",
        "model = Model(i,x)\n",
        "model.compile(\n",
        "    loss = 'mse',\n",
        "    optimizer = Adam(learning_rate=0.1),\n",
        ")\n",
        "\n",
        "r = model.fit(\n",
        "    X[:-N//2], Y[:-N//2],\n",
        "    epochs = 50,\n",
        "    validation_data = (X[-N//2:], Y[-N//2:]),\n",
        ")"
      ],
      "metadata": {
        "colab": {
          "base_uri": "https://localhost:8080/"
        },
        "id": "BmQSiy9d6a1h",
        "outputId": "a02779ba-a994-4bb5-9ff5-0d86daa224cc"
      },
      "execution_count": 7,
      "outputs": [
        {
          "output_type": "stream",
          "name": "stdout",
          "text": [
            "Epoch 1/50\n",
            "20/20 [==============================] - 5s 69ms/step - loss: 0.3787 - val_loss: 0.1750\n",
            "Epoch 2/50\n",
            "20/20 [==============================] - 0s 10ms/step - loss: 0.0282 - val_loss: 0.0315\n",
            "Epoch 3/50\n",
            "20/20 [==============================] - 0s 10ms/step - loss: 0.0117 - val_loss: 0.0483\n",
            "Epoch 4/50\n",
            "20/20 [==============================] - 0s 10ms/step - loss: 0.0116 - val_loss: 0.0374\n",
            "Epoch 5/50\n",
            "20/20 [==============================] - 0s 11ms/step - loss: 0.0114 - val_loss: 0.0382\n",
            "Epoch 6/50\n",
            "20/20 [==============================] - 0s 10ms/step - loss: 0.0114 - val_loss: 0.0542\n",
            "Epoch 7/50\n",
            "20/20 [==============================] - 0s 11ms/step - loss: 0.0110 - val_loss: 0.0389\n",
            "Epoch 8/50\n",
            "20/20 [==============================] - 0s 10ms/step - loss: 0.0143 - val_loss: 0.0513\n",
            "Epoch 9/50\n",
            "20/20 [==============================] - 0s 11ms/step - loss: 0.0121 - val_loss: 0.0370\n",
            "Epoch 10/50\n",
            "20/20 [==============================] - 0s 11ms/step - loss: 0.0113 - val_loss: 0.0687\n",
            "Epoch 11/50\n",
            "20/20 [==============================] - 0s 11ms/step - loss: 0.0132 - val_loss: 0.0556\n",
            "Epoch 12/50\n",
            "20/20 [==============================] - 0s 11ms/step - loss: 0.0134 - val_loss: 0.0731\n",
            "Epoch 13/50\n",
            "20/20 [==============================] - 0s 10ms/step - loss: 0.0131 - val_loss: 0.0365\n",
            "Epoch 14/50\n",
            "20/20 [==============================] - 0s 10ms/step - loss: 0.0130 - val_loss: 0.1143\n",
            "Epoch 15/50\n",
            "20/20 [==============================] - 0s 12ms/step - loss: 0.0137 - val_loss: 0.0273\n",
            "Epoch 16/50\n",
            "20/20 [==============================] - 0s 11ms/step - loss: 0.0134 - val_loss: 0.0279\n",
            "Epoch 17/50\n",
            "20/20 [==============================] - 0s 12ms/step - loss: 0.0112 - val_loss: 0.1033\n",
            "Epoch 18/50\n",
            "20/20 [==============================] - 0s 11ms/step - loss: 0.0177 - val_loss: 0.0501\n",
            "Epoch 19/50\n",
            "20/20 [==============================] - 0s 12ms/step - loss: 0.0134 - val_loss: 0.1043\n",
            "Epoch 20/50\n",
            "20/20 [==============================] - 0s 10ms/step - loss: 0.0120 - val_loss: 0.0302\n",
            "Epoch 21/50\n",
            "20/20 [==============================] - 0s 12ms/step - loss: 0.0104 - val_loss: 0.0305\n",
            "Epoch 22/50\n",
            "20/20 [==============================] - 0s 10ms/step - loss: 0.0121 - val_loss: 0.0584\n",
            "Epoch 23/50\n",
            "20/20 [==============================] - 0s 11ms/step - loss: 0.0122 - val_loss: 0.0281\n",
            "Epoch 24/50\n",
            "20/20 [==============================] - 0s 11ms/step - loss: 0.0122 - val_loss: 0.0301\n",
            "Epoch 25/50\n",
            "20/20 [==============================] - 0s 11ms/step - loss: 0.0140 - val_loss: 0.0355\n",
            "Epoch 26/50\n",
            "20/20 [==============================] - 0s 11ms/step - loss: 0.0105 - val_loss: 0.0555\n",
            "Epoch 27/50\n",
            "20/20 [==============================] - 0s 23ms/step - loss: 0.0128 - val_loss: 0.0389\n",
            "Epoch 28/50\n",
            "20/20 [==============================] - 0s 22ms/step - loss: 0.0152 - val_loss: 0.0454\n",
            "Epoch 29/50\n",
            "20/20 [==============================] - 1s 29ms/step - loss: 0.0121 - val_loss: 0.0699\n",
            "Epoch 30/50\n",
            "20/20 [==============================] - 0s 20ms/step - loss: 0.0128 - val_loss: 0.0299\n",
            "Epoch 31/50\n",
            "20/20 [==============================] - 0s 25ms/step - loss: 0.0108 - val_loss: 0.0294\n",
            "Epoch 32/50\n",
            "20/20 [==============================] - 1s 31ms/step - loss: 0.0118 - val_loss: 0.0359\n",
            "Epoch 33/50\n",
            "20/20 [==============================] - 1s 34ms/step - loss: 0.0120 - val_loss: 0.0329\n",
            "Epoch 34/50\n",
            "20/20 [==============================] - 0s 24ms/step - loss: 0.0126 - val_loss: 0.0278\n",
            "Epoch 35/50\n",
            "20/20 [==============================] - 1s 31ms/step - loss: 0.0127 - val_loss: 0.0399\n",
            "Epoch 36/50\n",
            "20/20 [==============================] - 1s 36ms/step - loss: 0.0123 - val_loss: 0.0417\n",
            "Epoch 37/50\n",
            "20/20 [==============================] - 1s 30ms/step - loss: 0.0128 - val_loss: 0.0517\n",
            "Epoch 38/50\n",
            "20/20 [==============================] - 1s 27ms/step - loss: 0.0116 - val_loss: 0.0449\n",
            "Epoch 39/50\n",
            "20/20 [==============================] - 1s 35ms/step - loss: 0.0110 - val_loss: 0.0336\n",
            "Epoch 40/50\n",
            "20/20 [==============================] - 1s 32ms/step - loss: 0.0103 - val_loss: 0.0317\n",
            "Epoch 41/50\n",
            "20/20 [==============================] - 1s 26ms/step - loss: 0.0105 - val_loss: 0.0272\n",
            "Epoch 42/50\n",
            "20/20 [==============================] - 0s 21ms/step - loss: 0.0126 - val_loss: 0.0480\n",
            "Epoch 43/50\n",
            "20/20 [==============================] - 0s 20ms/step - loss: 0.0143 - val_loss: 0.0451\n",
            "Epoch 44/50\n",
            "20/20 [==============================] - 0s 21ms/step - loss: 0.0112 - val_loss: 0.0270\n",
            "Epoch 45/50\n",
            "20/20 [==============================] - 0s 20ms/step - loss: 0.0107 - val_loss: 0.0324\n",
            "Epoch 46/50\n",
            "20/20 [==============================] - 0s 23ms/step - loss: 0.0108 - val_loss: 0.0302\n",
            "Epoch 47/50\n",
            "20/20 [==============================] - 1s 31ms/step - loss: 0.0113 - val_loss: 0.0330\n",
            "Epoch 48/50\n",
            "20/20 [==============================] - 1s 31ms/step - loss: 0.0102 - val_loss: 0.0339\n",
            "Epoch 49/50\n",
            "20/20 [==============================] - 0s 24ms/step - loss: 0.0104 - val_loss: 0.0343\n",
            "Epoch 50/50\n",
            "20/20 [==============================] - 0s 18ms/step - loss: 0.0119 - val_loss: 0.0406\n"
          ]
        }
      ]
    },
    {
      "cell_type": "code",
      "source": [
        "plt.plot(r.history['loss'], label = 'loss')\n",
        "plt.plot(r.history['val_loss'], label = 'val_loss')\n",
        "plt.title('Loss Plot')\n",
        "\n",
        "plt.show()"
      ],
      "metadata": {
        "colab": {
          "base_uri": "https://localhost:8080/",
          "height": 281
        },
        "id": "4vbbsz8u6ayt",
        "outputId": "27920edf-176b-4dce-8e37-20a79298449c"
      },
      "execution_count": 8,
      "outputs": [
        {
          "output_type": "display_data",
          "data": {
            "text/plain": [
              "<Figure size 432x288 with 1 Axes>"
            ],
            "image/png": "[encoded data removed]"
          },
          "metadata": {
            "needs_background": "light"
          }
        }
      ]
    },
    {
      "cell_type": "code",
      "source": [
        "# One-step forecast seems good, but only learns for train data\n",
        "outputs = model.predict(X)\n",
        "print(outputs.shape)\n",
        "predictions = outputs[:,0]\n",
        "\n",
        "plt.plot(Y, label = 'true')\n",
        "plt.plot(predictions, label = 'predicted')\n",
        "plt.legend()\n",
        "plt.show()"
      ],
      "metadata": {
        "colab": {
          "base_uri": "https://localhost:8080/",
          "height": 300
        },
        "id": "xXaqGX-S6av5",
        "outputId": "190643fc-a403-45c0-e5df-21a6b6d17155"
      },
      "execution_count": 9,
      "outputs": [
        {
          "output_type": "stream",
          "name": "stdout",
          "text": [
            "39/39 [==============================] - 1s 3ms/step\n",
            "(1248, 1)\n"
          ]
        },
        {
          "output_type": "display_data",
          "data": {
            "text/plain": [
              "<Figure size 432x288 with 1 Axes>"
            ],
            "image/png": "[encoded data removed]"
          },
          "metadata": {
            "needs_background": "light"
          }
        }
      ]
    },
    {
      "cell_type": "code",
      "source": [
        "# Multi-step forecast is failed, because it can not find pattern for predicting\n",
        "validation_target = Y[-N//2:]\n",
        "validation_predictions = []\n",
        "\n",
        "# last train input\n",
        "last_x = X[-N//2]\n",
        "\n",
        "while len(validation_predictions) < len(validation_target):\n",
        "  p = model.predict(last_x.reshape(1,T,1))[0,0]\n",
        "\n",
        "  validation_predictions.append(p)\n",
        "  last_x = np.roll(last_x, -1)\n",
        "  last_x[-1] = p\n",
        "\n",
        "plt.plot(validation_predictions, label = 'forecast')\n",
        "plt.plot(validation_target, label = 'true')\n",
        "plt.legend()\n",
        "plt.show()"
      ],
      "metadata": {
        "colab": {
          "base_uri": "https://localhost:8080/",
          "height": 265
        },
        "id": "VAuQks5S6asj",
        "outputId": "ba10d519-9d74-44a2-9cf0-5d025dff9902"
      },
      "execution_count": 22,
      "outputs": [
        {
          "output_type": "display_data",
          "data": {
            "text/plain": [
              "<Figure size 432x288 with 1 Axes>"
            ],
            "image/png": "[encoded data removed]"
          },
          "metadata": {
            "needs_background": "light"
          }
        }
      ]
    },
    {
      "cell_type": "markdown",
      "source": [
        "### Trying LSTM to predict Stock Close Return\n",
        "This is the change of the prices from one day to the next"
      ],
      "metadata": {
        "id": "iV9590o0i9Xn"
      }
    },
    {
      "cell_type": "code",
      "source": [
        "data['Previous Close'] = data['Close'].shift(1)\n",
        "display(data)"
      ],
      "metadata": {
        "colab": {
          "base_uri": "https://localhost:8080/",
          "height": 423
        },
        "id": "TFCUYOYBi8ff",
        "outputId": "00c048d8-567a-4a39-ca2f-a74a447355f5"
      },
      "execution_count": 10,
      "outputs": [
        {
          "output_type": "display_data",
          "data": {
            "text/plain": [
              "            Date       Open       High        Low      Close  Adj Close  \\\n",
              "0     2018-03-09  78.175003  78.946999  77.954002  78.944504  78.944504   \n",
              "1     2018-03-12  79.629997  80.266502  79.334999  79.919502  79.919502   \n",
              "2     2018-03-13  80.797997  80.876999  78.900497  79.408997  79.408997   \n",
              "3     2018-03-14  79.849998  80.321999  79.544502  79.550003  79.550003   \n",
              "4     2018-03-15  79.750000  79.845497  78.905502  79.115997  79.115997   \n",
              "...          ...        ...        ...        ...        ...        ...   \n",
              "1253  2023-03-02  91.410004  92.230003  90.389999  92.129997  92.129997   \n",
              "1254  2023-03-03  92.739998  94.940002  92.660004  94.900002  94.900002   \n",
              "1255  2023-03-06  95.190002  96.550003  93.739998  93.750000  93.750000   \n",
              "1256  2023-03-07  94.059998  95.089996  92.779999  93.550003  93.550003   \n",
              "1257  2023-03-08  93.599998  94.169998  92.180000  93.919998  93.919998   \n",
              "\n",
              "         Volume  Previous Close  \n",
              "0      90686000             NaN  \n",
              "1     103484000       78.944504  \n",
              "2     130638000       79.919502  \n",
              "3      85188000       79.408997  \n",
              "4      81394000       79.550003  \n",
              "...         ...             ...  \n",
              "1253   55509400       92.169998  \n",
              "1254   55695300       92.129997  \n",
              "1255   52112400       94.900002  \n",
              "1256   49100700       93.750000  \n",
              "1257   44823700       93.550003  \n",
              "\n",
              "[1258 rows x 8 columns]"
            ],
            "text/html": [
              "\n",
              "  <div id=\"df-96829b57-41fe-4b3b-b10a-de6071f1283c\">\n",
              "    <div class=\"colab-df-container\">\n",
              "      <div>\n",
              "<style scoped>\n",
              "    .dataframe tbody tr th:only-of-type {\n",
              "        vertical-align: middle;\n",
              "    }\n",
              "\n",
              "    .dataframe tbody tr th {\n",
              "        vertical-align: top;\n",
              "    }\n",
              "\n",
              "    .dataframe thead th {\n",
              "        text-align: right;\n",
              "    }\n",
              "</style>\n",
              "<table border=\"1\" class=\"dataframe\">\n",
              "  <thead>\n",
              "    <tr style=\"text-align: right;\">\n",
              "      <th></th>\n",
              "      <th>Date</th>\n",
              "      <th>Open</th>\n",
              "      <th>High</th>\n",
              "      <th>Low</th>\n",
              "      <th>Close</th>\n",
              "      <th>Adj Close</th>\n",
              "      <th>Volume</th>\n",
              "      <th>Previous Close</th>\n",
              "    </tr>\n",
              "  </thead>\n",
              "  <tbody>\n",
              "    <tr>\n",
              "      <th>0</th>\n",
              "      <td>2018-03-09</td>\n",
              "      <td>78.175003</td>\n",
              "      <td>78.946999</td>\n",
              "      <td>77.954002</td>\n",
              "      <td>78.944504</td>\n",
              "      <td>78.944504</td>\n",
              "      <td>90686000</td>\n",
              "      <td>NaN</td>\n",
              "    </tr>\n",
              "    <tr>\n",
              "      <th>1</th>\n",
              "      <td>2018-03-12</td>\n",
              "      <td>79.629997</td>\n",
              "      <td>80.266502</td>\n",
              "      <td>79.334999</td>\n",
              "      <td>79.919502</td>\n",
              "      <td>79.919502</td>\n",
              "      <td>103484000</td>\n",
              "      <td>78.944504</td>\n",
              "    </tr>\n",
              "    <tr>\n",
              "      <th>2</th>\n",
              "      <td>2018-03-13</td>\n",
              "      <td>80.797997</td>\n",
              "      <td>80.876999</td>\n",
              "      <td>78.900497</td>\n",
              "      <td>79.408997</td>\n",
              "      <td>79.408997</td>\n",
              "      <td>130638000</td>\n",
              "      <td>79.919502</td>\n",
              "    </tr>\n",
              "    <tr>\n",
              "      <th>3</th>\n",
              "      <td>2018-03-14</td>\n",
              "      <td>79.849998</td>\n",
              "      <td>80.321999</td>\n",
              "      <td>79.544502</td>\n",
              "      <td>79.550003</td>\n",
              "      <td>79.550003</td>\n",
              "      <td>85188000</td>\n",
              "      <td>79.408997</td>\n",
              "    </tr>\n",
              "    <tr>\n",
              "      <th>4</th>\n",
              "      <td>2018-03-15</td>\n",
              "      <td>79.750000</td>\n",
              "      <td>79.845497</td>\n",
              "      <td>78.905502</td>\n",
              "      <td>79.115997</td>\n",
              "      <td>79.115997</td>\n",
              "      <td>81394000</td>\n",
              "      <td>79.550003</td>\n",
              "    </tr>\n",
              "    <tr>\n",
              "      <th>...</th>\n",
              "      <td>...</td>\n",
              "      <td>...</td>\n",
              "      <td>...</td>\n",
              "      <td>...</td>\n",
              "      <td>...</td>\n",
              "      <td>...</td>\n",
              "      <td>...</td>\n",
              "      <td>...</td>\n",
              "    </tr>\n",
              "    <tr>\n",
              "      <th>1253</th>\n",
              "      <td>2023-03-02</td>\n",
              "      <td>91.410004</td>\n",
              "      <td>92.230003</td>\n",
              "      <td>90.389999</td>\n",
              "      <td>92.129997</td>\n",
              "      <td>92.129997</td>\n",
              "      <td>55509400</td>\n",
              "      <td>92.169998</td>\n",
              "    </tr>\n",
              "    <tr>\n",
              "      <th>1254</th>\n",
              "      <td>2023-03-03</td>\n",
              "      <td>92.739998</td>\n",
              "      <td>94.940002</td>\n",
              "      <td>92.660004</td>\n",
              "      <td>94.900002</td>\n",
              "      <td>94.900002</td>\n",
              "      <td>55695300</td>\n",
              "      <td>92.129997</td>\n",
              "    </tr>\n",
              "    <tr>\n",
              "      <th>1255</th>\n",
              "      <td>2023-03-06</td>\n",
              "      <td>95.190002</td>\n",
              "      <td>96.550003</td>\n",
              "      <td>93.739998</td>\n",
              "      <td>93.750000</td>\n",
              "      <td>93.750000</td>\n",
              "      <td>52112400</td>\n",
              "      <td>94.900002</td>\n",
              "    </tr>\n",
              "    <tr>\n",
              "      <th>1256</th>\n",
              "      <td>2023-03-07</td>\n",
              "      <td>94.059998</td>\n",
              "      <td>95.089996</td>\n",
              "      <td>92.779999</td>\n",
              "      <td>93.550003</td>\n",
              "      <td>93.550003</td>\n",
              "      <td>49100700</td>\n",
              "      <td>93.750000</td>\n",
              "    </tr>\n",
              "    <tr>\n",
              "      <th>1257</th>\n",
              "      <td>2023-03-08</td>\n",
              "      <td>93.599998</td>\n",
              "      <td>94.169998</td>\n",
              "      <td>92.180000</td>\n",
              "      <td>93.919998</td>\n",
              "      <td>93.919998</td>\n",
              "      <td>44823700</td>\n",
              "      <td>93.550003</td>\n",
              "    </tr>\n",
              "  </tbody>\n",
              "</table>\n",
              "<p>1258 rows × 8 columns</p>\n",
              "</div>\n",
              "      <button class=\"colab-df-convert\" onclick=\"convertToInteractive('df-96829b57-41fe-4b3b-b10a-de6071f1283c')\"\n",
              "              title=\"Convert this dataframe to an interactive table.\"\n",
              "              style=\"display:none;\">\n",
              "        \n",
              "  <svg xmlns=\"http://www.w3.org/2000/svg\" height=\"24px\"viewBox=\"0 0 24 24\"\n",
              "       width=\"24px\">\n",
              "    <path d=\"M0 0h24v24H0V0z\" fill=\"none\"/>\n",
              "    <path d=\"M18.56 5.44l.94 2.06.94-2.06 2.06-.94-2.06-.94-.94-2.06-.94 2.06-2.06.94zm-11 1L8.5 8.5l.94-2.06 2.06-.94-2.06-.94L8.5 2.5l-.94 2.06-2.06.94zm10 10l.94 2.06.94-2.06 2.06-.94-2.06-.94-.94-2.06-.94 2.06-2.06.94z\"/><path d=\"M17.41 7.96l-1.37-1.37c-.4-.4-.92-.59-1.43-.59-.52 0-1.04.2-1.43.59L10.3 9.45l-7.72 7.72c-.78.78-.78 2.05 0 2.83L4 21.41c.39.39.9.59 1.41.59.51 0 1.02-.2 1.41-.59l7.78-7.78 2.81-2.81c.8-.78.8-2.07 0-2.86zM5.41 20L4 18.59l7.72-7.72 1.47 1.35L5.41 20z\"/>\n",
              "  </svg>\n",
              "      </button>\n",
              "      \n",
              "  <style>\n",
              "    .colab-df-container {\n",
              "      display:flex;\n",
              "      flex-wrap:wrap;\n",
              "      gap: 12px;\n",
              "    }\n",
              "\n",
              "    .colab-df-convert {\n",
              "      background-color: #E8F0FE;\n",
              "      border: none;\n",
              "      border-radius: 50%;\n",
              "      cursor: pointer;\n",
              "      display: none;\n",
              "      fill: #1967D2;\n",
              "      height: 32px;\n",
              "      padding: 0 0 0 0;\n",
              "      width: 32px;\n",
              "    }\n",
              "\n",
              "    .colab-df-convert:hover {\n",
              "      background-color: #E2EBFA;\n",
              "      box-shadow: 0px 1px 2px rgba(60, 64, 67, 0.3), 0px 1px 3px 1px rgba(60, 64, 67, 0.15);\n",
              "      fill: #174EA6;\n",
              "    }\n",
              "\n",
              "    [theme=dark] .colab-df-convert {\n",
              "      background-color: #3B4455;\n",
              "      fill: #D2E3FC;\n",
              "    }\n",
              "\n",
              "    [theme=dark] .colab-df-convert:hover {\n",
              "      background-color: #434B5C;\n",
              "      box-shadow: 0px 1px 3px 1px rgba(0, 0, 0, 0.15);\n",
              "      filter: drop-shadow(0px 1px 2px rgba(0, 0, 0, 0.3));\n",
              "      fill: #FFFFFF;\n",
              "    }\n",
              "  </style>\n",
              "\n",
              "      <script>\n",
              "        const buttonEl =\n",
              "          document.querySelector('#df-96829b57-41fe-4b3b-b10a-de6071f1283c button.colab-df-convert');\n",
              "        buttonEl.style.display =\n",
              "          google.colab.kernel.accessAllowed ? 'block' : 'none';\n",
              "\n",
              "        async function convertToInteractive(key) {\n",
              "          const element = document.querySelector('#df-96829b57-41fe-4b3b-b10a-de6071f1283c');\n",
              "          const dataTable =\n",
              "            await google.colab.kernel.invokeFunction('convertToInteractive',\n",
              "                                                     [key], {});\n",
              "          if (!dataTable) return;\n",
              "\n",
              "          const docLinkHtml = 'Like what you see? Visit the ' +\n",
              "            '<a target=\"_blank\" href=https://colab.research.google.com/notebooks/data_table.ipynb>data table notebook</a>'\n",
              "            + ' to learn more about interactive tables.';\n",
              "          element.innerHTML = '';\n",
              "          dataTable['output_type'] = 'display_data';\n",
              "          await google.colab.output.renderOutput(dataTable, element);\n",
              "          const docLink = document.createElement('div');\n",
              "          docLink.innerHTML = docLinkHtml;\n",
              "          element.appendChild(docLink);\n",
              "        }\n",
              "      </script>\n",
              "    </div>\n",
              "  </div>\n",
              "  "
            ]
          },
          "metadata": {}
        }
      ]
    },
    {
      "cell_type": "code",
      "source": [
        "# calculating the return\n",
        "data['Return'] = (data['Close'] - data['Previous Close']) / data['Previous Close']\n",
        "data.head()"
      ],
      "metadata": {
        "colab": {
          "base_uri": "https://localhost:8080/",
          "height": 206
        },
        "id": "_Gl5rE-zi8Zr",
        "outputId": "acf7a7ea-a5b7-45e5-be8c-855ebc92d343"
      },
      "execution_count": 11,
      "outputs": [
        {
          "output_type": "execute_result",
          "data": {
            "text/plain": [
              "         Date       Open       High        Low      Close  Adj Close  \\\n",
              "0  2018-03-09  78.175003  78.946999  77.954002  78.944504  78.944504   \n",
              "1  2018-03-12  79.629997  80.266502  79.334999  79.919502  79.919502   \n",
              "2  2018-03-13  80.797997  80.876999  78.900497  79.408997  79.408997   \n",
              "3  2018-03-14  79.849998  80.321999  79.544502  79.550003  79.550003   \n",
              "4  2018-03-15  79.750000  79.845497  78.905502  79.115997  79.115997   \n",
              "\n",
              "      Volume  Previous Close    Return  \n",
              "0   90686000             NaN       NaN  \n",
              "1  103484000       78.944504  0.012350  \n",
              "2  130638000       79.919502 -0.006388  \n",
              "3   85188000       79.408997  0.001776  \n",
              "4   81394000       79.550003 -0.005456  "
            ],
            "text/html": [
              "\n",
              "  <div id=\"df-606b749b-4744-4ebd-8664-da1b51a7549a\">\n",
              "    <div class=\"colab-df-container\">\n",
              "      <div>\n",
              "<style scoped>\n",
              "    .dataframe tbody tr th:only-of-type {\n",
              "        vertical-align: middle;\n",
              "    }\n",
              "\n",
              "    .dataframe tbody tr th {\n",
              "        vertical-align: top;\n",
              "    }\n",
              "\n",
              "    .dataframe thead th {\n",
              "        text-align: right;\n",
              "    }\n",
              "</style>\n",
              "<table border=\"1\" class=\"dataframe\">\n",
              "  <thead>\n",
              "    <tr style=\"text-align: right;\">\n",
              "      <th></th>\n",
              "      <th>Date</th>\n",
              "      <th>Open</th>\n",
              "      <th>High</th>\n",
              "      <th>Low</th>\n",
              "      <th>Close</th>\n",
              "      <th>Adj Close</th>\n",
              "      <th>Volume</th>\n",
              "      <th>Previous Close</th>\n",
              "      <th>Return</th>\n",
              "    </tr>\n",
              "  </thead>\n",
              "  <tbody>\n",
              "    <tr>\n",
              "      <th>0</th>\n",
              "      <td>2018-03-09</td>\n",
              "      <td>78.175003</td>\n",
              "      <td>78.946999</td>\n",
              "      <td>77.954002</td>\n",
              "      <td>78.944504</td>\n",
              "      <td>78.944504</td>\n",
              "      <td>90686000</td>\n",
              "      <td>NaN</td>\n",
              "      <td>NaN</td>\n",
              "    </tr>\n",
              "    <tr>\n",
              "      <th>1</th>\n",
              "      <td>2018-03-12</td>\n",
              "      <td>79.629997</td>\n",
              "      <td>80.266502</td>\n",
              "      <td>79.334999</td>\n",
              "      <td>79.919502</td>\n",
              "      <td>79.919502</td>\n",
              "      <td>103484000</td>\n",
              "      <td>78.944504</td>\n",
              "      <td>0.012350</td>\n",
              "    </tr>\n",
              "    <tr>\n",
              "      <th>2</th>\n",
              "      <td>2018-03-13</td>\n",
              "      <td>80.797997</td>\n",
              "      <td>80.876999</td>\n",
              "      <td>78.900497</td>\n",
              "      <td>79.408997</td>\n",
              "      <td>79.408997</td>\n",
              "      <td>130638000</td>\n",
              "      <td>79.919502</td>\n",
              "      <td>-0.006388</td>\n",
              "    </tr>\n",
              "    <tr>\n",
              "      <th>3</th>\n",
              "      <td>2018-03-14</td>\n",
              "      <td>79.849998</td>\n",
              "      <td>80.321999</td>\n",
              "      <td>79.544502</td>\n",
              "      <td>79.550003</td>\n",
              "      <td>79.550003</td>\n",
              "      <td>85188000</td>\n",
              "      <td>79.408997</td>\n",
              "      <td>0.001776</td>\n",
              "    </tr>\n",
              "    <tr>\n",
              "      <th>4</th>\n",
              "      <td>2018-03-15</td>\n",
              "      <td>79.750000</td>\n",
              "      <td>79.845497</td>\n",
              "      <td>78.905502</td>\n",
              "      <td>79.115997</td>\n",
              "      <td>79.115997</td>\n",
              "      <td>81394000</td>\n",
              "      <td>79.550003</td>\n",
              "      <td>-0.005456</td>\n",
              "    </tr>\n",
              "  </tbody>\n",
              "</table>\n",
              "</div>\n",
              "      <button class=\"colab-df-convert\" onclick=\"convertToInteractive('df-606b749b-4744-4ebd-8664-da1b51a7549a')\"\n",
              "              title=\"Convert this dataframe to an interactive table.\"\n",
              "              style=\"display:none;\">\n",
              "        \n",
              "  <svg xmlns=\"http://www.w3.org/2000/svg\" height=\"24px\"viewBox=\"0 0 24 24\"\n",
              "       width=\"24px\">\n",
              "    <path d=\"M0 0h24v24H0V0z\" fill=\"none\"/>\n",
              "    <path d=\"M18.56 5.44l.94 2.06.94-2.06 2.06-.94-2.06-.94-.94-2.06-.94 2.06-2.06.94zm-11 1L8.5 8.5l.94-2.06 2.06-.94-2.06-.94L8.5 2.5l-.94 2.06-2.06.94zm10 10l.94 2.06.94-2.06 2.06-.94-2.06-.94-.94-2.06-.94 2.06-2.06.94z\"/><path d=\"M17.41 7.96l-1.37-1.37c-.4-.4-.92-.59-1.43-.59-.52 0-1.04.2-1.43.59L10.3 9.45l-7.72 7.72c-.78.78-.78 2.05 0 2.83L4 21.41c.39.39.9.59 1.41.59.51 0 1.02-.2 1.41-.59l7.78-7.78 2.81-2.81c.8-.78.8-2.07 0-2.86zM5.41 20L4 18.59l7.72-7.72 1.47 1.35L5.41 20z\"/>\n",
              "  </svg>\n",
              "      </button>\n",
              "      \n",
              "  <style>\n",
              "    .colab-df-container {\n",
              "      display:flex;\n",
              "      flex-wrap:wrap;\n",
              "      gap: 12px;\n",
              "    }\n",
              "\n",
              "    .colab-df-convert {\n",
              "      background-color: #E8F0FE;\n",
              "      border: none;\n",
              "      border-radius: 50%;\n",
              "      cursor: pointer;\n",
              "      display: none;\n",
              "      fill: #1967D2;\n",
              "      height: 32px;\n",
              "      padding: 0 0 0 0;\n",
              "      width: 32px;\n",
              "    }\n",
              "\n",
              "    .colab-df-convert:hover {\n",
              "      background-color: #E2EBFA;\n",
              "      box-shadow: 0px 1px 2px rgba(60, 64, 67, 0.3), 0px 1px 3px 1px rgba(60, 64, 67, 0.15);\n",
              "      fill: #174EA6;\n",
              "    }\n",
              "\n",
              "    [theme=dark] .colab-df-convert {\n",
              "      background-color: #3B4455;\n",
              "      fill: #D2E3FC;\n",
              "    }\n",
              "\n",
              "    [theme=dark] .colab-df-convert:hover {\n",
              "      background-color: #434B5C;\n",
              "      box-shadow: 0px 1px 3px 1px rgba(0, 0, 0, 0.15);\n",
              "      filter: drop-shadow(0px 1px 2px rgba(0, 0, 0, 0.3));\n",
              "      fill: #FFFFFF;\n",
              "    }\n",
              "  </style>\n",
              "\n",
              "      <script>\n",
              "        const buttonEl =\n",
              "          document.querySelector('#df-606b749b-4744-4ebd-8664-da1b51a7549a button.colab-df-convert');\n",
              "        buttonEl.style.display =\n",
              "          google.colab.kernel.accessAllowed ? 'block' : 'none';\n",
              "\n",
              "        async function convertToInteractive(key) {\n",
              "          const element = document.querySelector('#df-606b749b-4744-4ebd-8664-da1b51a7549a');\n",
              "          const dataTable =\n",
              "            await google.colab.kernel.invokeFunction('convertToInteractive',\n",
              "                                                     [key], {});\n",
              "          if (!dataTable) return;\n",
              "\n",
              "          const docLinkHtml = 'Like what you see? Visit the ' +\n",
              "            '<a target=\"_blank\" href=https://colab.research.google.com/notebooks/data_table.ipynb>data table notebook</a>'\n",
              "            + ' to learn more about interactive tables.';\n",
              "          element.innerHTML = '';\n",
              "          dataTable['output_type'] = 'display_data';\n",
              "          await google.colab.output.renderOutput(dataTable, element);\n",
              "          const docLink = document.createElement('div');\n",
              "          docLink.innerHTML = docLinkHtml;\n",
              "          element.appendChild(docLink);\n",
              "        }\n",
              "      </script>\n",
              "    </div>\n",
              "  </div>\n",
              "  "
            ]
          },
          "metadata": {},
          "execution_count": 11
        }
      ]
    },
    {
      "cell_type": "code",
      "source": [
        "# hist\n",
        "data['Return'].hist()"
      ],
      "metadata": {
        "colab": {
          "base_uri": "https://localhost:8080/",
          "height": 282
        },
        "id": "O7cBbYn1nomP",
        "outputId": "dc65fb65-986f-431e-9bb0-32dd263d2e5a"
      },
      "execution_count": 27,
      "outputs": [
        {
          "output_type": "execute_result",
          "data": {
            "text/plain": [
              "<AxesSubplot:>"
            ]
          },
          "metadata": {},
          "execution_count": 27
        },
        {
          "output_type": "display_data",
          "data": {
            "text/plain": [
              "<Figure size 432x288 with 1 Axes>"
            ],
            "image/png": "[encoded data removed]"
          },
          "metadata": {
            "needs_background": "light"
          }
        }
      ]
    },
    {
      "cell_type": "code",
      "source": [
        "# Predicting Stock Return\n",
        "data = data.iloc[1:]\n",
        "series = data['Return'].values.reshape(-1, 1)\n",
        "# print(series.shape)\n",
        "\n",
        "# Normalize the data\n",
        "scaler = StandardScaler()\n",
        "scaler.fit(series[:len(series) // 2])\n",
        "series = scaler.transform(series).flatten()\n",
        "# print(series.shape)\n",
        "\n",
        "# build the dataset\n",
        "T = 10\n",
        "D = 1\n",
        "X, Y = [], []\n",
        "\n",
        "for i in range(len(series) - T):\n",
        "  x = series[i:i+T]\n",
        "  X.append(x)\n",
        "  y = series[i+T]\n",
        "  Y.append(y)\n",
        "\n",
        "X = np.array(X).reshape(-1, T, 1)  # NxTxD\n",
        "Y = np.array(Y)\n",
        "N = len(X)\n",
        "print(f\"X.shape {X.shape} Y.shape {Y.shape}\")"
      ],
      "metadata": {
        "colab": {
          "base_uri": "https://localhost:8080/"
        },
        "id": "qBO-QJObi8Wq",
        "outputId": "ae005f09-5e5f-4ea6-e00f-4931915330eb"
      },
      "execution_count": 23,
      "outputs": [
        {
          "output_type": "stream",
          "name": "stdout",
          "text": [
            "X.shape (1246, 10, 1) Y.shape (1246,)\n"
          ]
        }
      ]
    },
    {
      "cell_type": "code",
      "source": [
        "# autoregressive RNN model\n",
        "i = Input(shape = (T, 1))\n",
        "x = LSTM(5)(i)\n",
        "x = Dense(1)(x)\n",
        "\n",
        "model = Model(i,x)\n",
        "model.compile(\n",
        "    loss = 'mse',\n",
        "    optimizer = Adam(learning_rate=0.1),\n",
        ")\n",
        "\n",
        "r = model.fit(\n",
        "    X[:-N//2], Y[:-N//2],\n",
        "    epochs = 50,\n",
        "    validation_data = (X[-N//2:], Y[-N//2:]),\n",
        ")"
      ],
      "metadata": {
        "colab": {
          "base_uri": "https://localhost:8080/"
        },
        "id": "GOCBlbdyi8Tg",
        "outputId": "fa146af4-3737-469d-9933-7eaaf08aab5d"
      },
      "execution_count": 24,
      "outputs": [
        {
          "output_type": "stream",
          "name": "stdout",
          "text": [
            "Epoch 1/50\n",
            "20/20 [==============================] - 3s 40ms/step - loss: 1.0198 - val_loss: 1.3646\n",
            "Epoch 2/50\n",
            "20/20 [==============================] - 0s 11ms/step - loss: 1.0048 - val_loss: 1.3719\n",
            "Epoch 3/50\n",
            "20/20 [==============================] - 0s 12ms/step - loss: 0.9972 - val_loss: 1.3968\n",
            "Epoch 4/50\n",
            "20/20 [==============================] - 0s 19ms/step - loss: 0.9964 - val_loss: 1.3911\n",
            "Epoch 5/50\n",
            "20/20 [==============================] - 0s 20ms/step - loss: 0.9833 - val_loss: 1.4004\n",
            "Epoch 6/50\n",
            "20/20 [==============================] - 0s 23ms/step - loss: 0.9771 - val_loss: 1.3920\n",
            "Epoch 7/50\n",
            "20/20 [==============================] - 0s 22ms/step - loss: 0.9853 - val_loss: 1.4321\n",
            "Epoch 8/50\n",
            "20/20 [==============================] - 0s 20ms/step - loss: 0.9372 - val_loss: 1.5479\n",
            "Epoch 9/50\n",
            "20/20 [==============================] - 0s 22ms/step - loss: 0.9462 - val_loss: 2.3883\n",
            "Epoch 10/50\n",
            "20/20 [==============================] - 0s 15ms/step - loss: 1.0535 - val_loss: 1.3915\n",
            "Epoch 11/50\n",
            "20/20 [==============================] - 0s 22ms/step - loss: 0.9996 - val_loss: 1.4136\n",
            "Epoch 12/50\n",
            "20/20 [==============================] - 0s 19ms/step - loss: 0.9797 - val_loss: 1.4343\n",
            "Epoch 13/50\n",
            "20/20 [==============================] - 1s 26ms/step - loss: 0.9432 - val_loss: 1.4680\n",
            "Epoch 14/50\n",
            "20/20 [==============================] - 1s 29ms/step - loss: 0.9326 - val_loss: 1.5520\n",
            "Epoch 15/50\n",
            "20/20 [==============================] - 1s 25ms/step - loss: 0.9183 - val_loss: 1.4656\n",
            "Epoch 16/50\n",
            "20/20 [==============================] - 0s 25ms/step - loss: 1.0100 - val_loss: 1.4355\n",
            "Epoch 17/50\n",
            "20/20 [==============================] - 0s 21ms/step - loss: 0.9787 - val_loss: 1.5329\n",
            "Epoch 18/50\n",
            "20/20 [==============================] - 0s 24ms/step - loss: 0.9115 - val_loss: 1.7113\n",
            "Epoch 19/50\n",
            "20/20 [==============================] - 1s 39ms/step - loss: 0.9050 - val_loss: 1.6619\n",
            "Epoch 20/50\n",
            "20/20 [==============================] - 0s 20ms/step - loss: 0.8949 - val_loss: 1.7120\n",
            "Epoch 21/50\n",
            "20/20 [==============================] - 0s 18ms/step - loss: 0.8849 - val_loss: 1.5708\n",
            "Epoch 22/50\n",
            "20/20 [==============================] - 0s 22ms/step - loss: 0.8847 - val_loss: 1.6261\n",
            "Epoch 23/50\n",
            "20/20 [==============================] - 0s 23ms/step - loss: 0.9232 - val_loss: 1.7124\n",
            "Epoch 24/50\n",
            "20/20 [==============================] - 1s 40ms/step - loss: 0.9196 - val_loss: 1.7747\n",
            "Epoch 25/50\n",
            "20/20 [==============================] - 0s 12ms/step - loss: 0.9059 - val_loss: 1.7050\n",
            "Epoch 26/50\n",
            "20/20 [==============================] - 0s 13ms/step - loss: 0.8981 - val_loss: 1.5587\n",
            "Epoch 27/50\n",
            "20/20 [==============================] - 0s 12ms/step - loss: 0.8801 - val_loss: 1.8146\n",
            "Epoch 28/50\n",
            "20/20 [==============================] - 0s 11ms/step - loss: 0.9243 - val_loss: 1.6052\n",
            "Epoch 29/50\n",
            "20/20 [==============================] - 0s 12ms/step - loss: 0.8861 - val_loss: 1.6643\n",
            "Epoch 30/50\n",
            "20/20 [==============================] - 0s 12ms/step - loss: 0.8974 - val_loss: 1.7457\n",
            "Epoch 31/50\n",
            "20/20 [==============================] - 0s 11ms/step - loss: 0.8715 - val_loss: 1.6011\n",
            "Epoch 32/50\n",
            "20/20 [==============================] - 0s 11ms/step - loss: 0.8480 - val_loss: 1.8441\n",
            "Epoch 33/50\n",
            "20/20 [==============================] - 0s 11ms/step - loss: 0.8643 - val_loss: 1.8501\n",
            "Epoch 34/50\n",
            "20/20 [==============================] - 0s 11ms/step - loss: 0.9350 - val_loss: 1.5948\n",
            "Epoch 35/50\n",
            "20/20 [==============================] - 0s 13ms/step - loss: 0.8576 - val_loss: 1.5992\n",
            "Epoch 36/50\n",
            "20/20 [==============================] - 0s 12ms/step - loss: 0.8613 - val_loss: 1.6712\n",
            "Epoch 37/50\n",
            "20/20 [==============================] - 0s 12ms/step - loss: 0.8379 - val_loss: 1.7122\n",
            "Epoch 38/50\n",
            "20/20 [==============================] - 0s 11ms/step - loss: 0.8419 - val_loss: 2.0047\n",
            "Epoch 39/50\n",
            "20/20 [==============================] - 0s 13ms/step - loss: 0.8856 - val_loss: 1.8268\n",
            "Epoch 40/50\n",
            "20/20 [==============================] - 0s 11ms/step - loss: 0.8175 - val_loss: 2.0486\n",
            "Epoch 41/50\n",
            "20/20 [==============================] - 0s 11ms/step - loss: 0.8670 - val_loss: 1.7355\n",
            "Epoch 42/50\n",
            "20/20 [==============================] - 0s 12ms/step - loss: 0.8524 - val_loss: 1.7701\n",
            "Epoch 43/50\n",
            "20/20 [==============================] - 0s 18ms/step - loss: 0.8451 - val_loss: 1.8366\n",
            "Epoch 44/50\n",
            "20/20 [==============================] - 0s 17ms/step - loss: 0.8587 - val_loss: 1.5943\n",
            "Epoch 45/50\n",
            "20/20 [==============================] - 0s 16ms/step - loss: 0.9436 - val_loss: 1.6825\n",
            "Epoch 46/50\n",
            "20/20 [==============================] - 0s 21ms/step - loss: 0.8732 - val_loss: 1.6113\n",
            "Epoch 47/50\n",
            "20/20 [==============================] - 0s 15ms/step - loss: 0.8421 - val_loss: 1.7829\n",
            "Epoch 48/50\n",
            "20/20 [==============================] - 0s 16ms/step - loss: 0.8820 - val_loss: 1.7343\n",
            "Epoch 49/50\n",
            "20/20 [==============================] - 0s 21ms/step - loss: 0.9123 - val_loss: 1.6720\n",
            "Epoch 50/50\n",
            "20/20 [==============================] - 0s 20ms/step - loss: 0.8770 - val_loss: 1.7516\n"
          ]
        }
      ]
    },
    {
      "cell_type": "code",
      "source": [
        "plt.plot(r.history['loss'], label = 'loss')\n",
        "plt.plot(r.history['val_loss'], label = 'val_loss')\n",
        "plt.title('Loss Plot')\n",
        "\n",
        "plt.show()\n",
        "\n",
        "# according to the plot the model doesn't really learn, but instead fits the noise"
      ],
      "metadata": {
        "colab": {
          "base_uri": "https://localhost:8080/",
          "height": 281
        },
        "id": "WZ2f0rDCi8NK",
        "outputId": "8c4ca36d-99a1-4451-f1fc-20610c9fdc79"
      },
      "execution_count": 25,
      "outputs": [
        {
          "output_type": "display_data",
          "data": {
            "text/plain": [
              "<Figure size 432x288 with 1 Axes>"
            ],
            "image/png": "[encoded data removed]"
          },
          "metadata": {
            "needs_background": "light"
          }
        }
      ]
    },
    {
      "cell_type": "code",
      "source": [
        "# One-step forecast\n",
        "outputs = model.predict(X)\n",
        "print(outputs.shape)\n",
        "predictions = outputs[:,0]\n",
        "\n",
        "plt.plot(Y, label = 'true')\n",
        "plt.plot(predictions, label = 'predicted')\n",
        "plt.legend()\n",
        "plt.show()"
      ],
      "metadata": {
        "colab": {
          "base_uri": "https://localhost:8080/",
          "height": 300
        },
        "id": "kodq1udX9SXq",
        "outputId": "d97bbc89-d014-483a-b10c-484cafe65114"
      },
      "execution_count": 26,
      "outputs": [
        {
          "output_type": "stream",
          "name": "stdout",
          "text": [
            "39/39 [==============================] - 1s 2ms/step\n",
            "(1246, 1)\n"
          ]
        },
        {
          "output_type": "display_data",
          "data": {
            "text/plain": [
              "<Figure size 432x288 with 1 Axes>"
            ],
            "image/png": "[encoded data removed]"
          },
          "metadata": {
            "needs_background": "light"
          }
        }
      ]
    },
    {
      "cell_type": "code",
      "source": [
        "#@title\n",
        "# Multi-step forecast\n",
        "validation_target = Y[-N//2:]\n",
        "validation_predictions = []\n",
        "last_x = X[-N//2]\n",
        "\n",
        "while len(validation_predictions) < len(validation_target):\n",
        "  p = model.predict(last_x.reshape(1,T,1))[0,0]\n",
        "  validation_predictions.append(p)\n",
        "  last_x = np.roll(last_x, -1)\n",
        "  last_x[-1] = p\n",
        "\n",
        "plt.plot(validation_predictions, label = 'forecast')\n",
        "plt.plot(validation_target, label = 'true')\n",
        "plt.legend()"
      ],
      "metadata": {
        "colab": {
          "base_uri": "https://localhost:8080/",
          "height": 386
        },
        "collapsed": true,
        "id": "o03X2pqcm-74",
        "outputId": "946e0b6d-4cb4-4c5f-e72f-dcf0d6e94ad6"
      },
      "execution_count": 29,
      "outputs": [
        {
          "output_type": "stream",
          "name": "stdout",
          "text": [
            "1/1 [==============================] - 0s 30ms/step\n",
            "1/1 [==============================] - 0s 26ms/step\n",
            "1/1 [==============================] - 0s 26ms/step\n",
            "1/1 [==============================] - 0s 25ms/step\n",
            "1/1 [==============================] - 0s 26ms/step\n",
            "1/1 [==============================] - 0s 26ms/step\n"
          ]
        },
        {
          "output_type": "execute_result",
          "data": {
            "text/plain": [
              "<matplotlib.legend.Legend at 0x7fd8034fc190>"
            ]
          },
          "metadata": {},
          "execution_count": 29
        },
        {
          "output_type": "display_data",
          "data": {
            "text/plain": [
              "<Figure size 432x288 with 1 Axes>"
            ],
            "image/png": "[encoded data removed]"
          },
          "metadata": {
            "needs_background": "light"
          }
        }
      ]
    },
    {
      "cell_type": "markdown",
      "source": [
        "### Trying Binary Classification to predict if the stocks price will go up or down\n",
        "This problem is the easiest, if it could not be accomplished then Stock Price Prediction is just a baby babbling"
      ],
      "metadata": {
        "id": "jRwASd87uqgo"
      }
    },
    {
      "cell_type": "code",
      "source": [
        "# read dataframe from the URL\n",
        "data = pd.read_csv('https://raw.githubusercontent.com/Islambekkurakbay/Stock_Return_Prediction_LSTM/main/AMZN.csv')\n",
        "data.head()"
      ],
      "metadata": {
        "colab": {
          "base_uri": "https://localhost:8080/",
          "height": 206
        },
        "id": "c0ymMGPIw-RN",
        "outputId": "a3ef88e6-63ae-4070-d815-c2dce84b43fe"
      },
      "execution_count": 65,
      "outputs": [
        {
          "output_type": "execute_result",
          "data": {
            "text/plain": [
              "         Date       Open       High        Low      Close  Adj Close  \\\n",
              "0  2018-03-09  78.175003  78.946999  77.954002  78.944504  78.944504   \n",
              "1  2018-03-12  79.629997  80.266502  79.334999  79.919502  79.919502   \n",
              "2  2018-03-13  80.797997  80.876999  78.900497  79.408997  79.408997   \n",
              "3  2018-03-14  79.849998  80.321999  79.544502  79.550003  79.550003   \n",
              "4  2018-03-15  79.750000  79.845497  78.905502  79.115997  79.115997   \n",
              "\n",
              "      Volume  \n",
              "0   90686000  \n",
              "1  103484000  \n",
              "2  130638000  \n",
              "3   85188000  \n",
              "4   81394000  "
            ],
            "text/html": [
              "\n",
              "  <div id=\"df-a7f3b000-9b30-40f0-bef5-b2ab6f7817b7\">\n",
              "    <div class=\"colab-df-container\">\n",
              "      <div>\n",
              "<style scoped>\n",
              "    .dataframe tbody tr th:only-of-type {\n",
              "        vertical-align: middle;\n",
              "    }\n",
              "\n",
              "    .dataframe tbody tr th {\n",
              "        vertical-align: top;\n",
              "    }\n",
              "\n",
              "    .dataframe thead th {\n",
              "        text-align: right;\n",
              "    }\n",
              "</style>\n",
              "<table border=\"1\" class=\"dataframe\">\n",
              "  <thead>\n",
              "    <tr style=\"text-align: right;\">\n",
              "      <th></th>\n",
              "      <th>Date</th>\n",
              "      <th>Open</th>\n",
              "      <th>High</th>\n",
              "      <th>Low</th>\n",
              "      <th>Close</th>\n",
              "      <th>Adj Close</th>\n",
              "      <th>Volume</th>\n",
              "    </tr>\n",
              "  </thead>\n",
              "  <tbody>\n",
              "    <tr>\n",
              "      <th>0</th>\n",
              "      <td>2018-03-09</td>\n",
              "      <td>78.175003</td>\n",
              "      <td>78.946999</td>\n",
              "      <td>77.954002</td>\n",
              "      <td>78.944504</td>\n",
              "      <td>78.944504</td>\n",
              "      <td>90686000</td>\n",
              "    </tr>\n",
              "    <tr>\n",
              "      <th>1</th>\n",
              "      <td>2018-03-12</td>\n",
              "      <td>79.629997</td>\n",
              "      <td>80.266502</td>\n",
              "      <td>79.334999</td>\n",
              "      <td>79.919502</td>\n",
              "      <td>79.919502</td>\n",
              "      <td>103484000</td>\n",
              "    </tr>\n",
              "    <tr>\n",
              "      <th>2</th>\n",
              "      <td>2018-03-13</td>\n",
              "      <td>80.797997</td>\n",
              "      <td>80.876999</td>\n",
              "      <td>78.900497</td>\n",
              "      <td>79.408997</td>\n",
              "      <td>79.408997</td>\n",
              "      <td>130638000</td>\n",
              "    </tr>\n",
              "    <tr>\n",
              "      <th>3</th>\n",
              "      <td>2018-03-14</td>\n",
              "      <td>79.849998</td>\n",
              "      <td>80.321999</td>\n",
              "      <td>79.544502</td>\n",
              "      <td>79.550003</td>\n",
              "      <td>79.550003</td>\n",
              "      <td>85188000</td>\n",
              "    </tr>\n",
              "    <tr>\n",
              "      <th>4</th>\n",
              "      <td>2018-03-15</td>\n",
              "      <td>79.750000</td>\n",
              "      <td>79.845497</td>\n",
              "      <td>78.905502</td>\n",
              "      <td>79.115997</td>\n",
              "      <td>79.115997</td>\n",
              "      <td>81394000</td>\n",
              "    </tr>\n",
              "  </tbody>\n",
              "</table>\n",
              "</div>\n",
              "      <button class=\"colab-df-convert\" onclick=\"convertToInteractive('df-a7f3b000-9b30-40f0-bef5-b2ab6f7817b7')\"\n",
              "              title=\"Convert this dataframe to an interactive table.\"\n",
              "              style=\"display:none;\">\n",
              "        \n",
              "  <svg xmlns=\"http://www.w3.org/2000/svg\" height=\"24px\"viewBox=\"0 0 24 24\"\n",
              "       width=\"24px\">\n",
              "    <path d=\"M0 0h24v24H0V0z\" fill=\"none\"/>\n",
              "    <path d=\"M18.56 5.44l.94 2.06.94-2.06 2.06-.94-2.06-.94-.94-2.06-.94 2.06-2.06.94zm-11 1L8.5 8.5l.94-2.06 2.06-.94-2.06-.94L8.5 2.5l-.94 2.06-2.06.94zm10 10l.94 2.06.94-2.06 2.06-.94-2.06-.94-.94-2.06-.94 2.06-2.06.94z\"/><path d=\"M17.41 7.96l-1.37-1.37c-.4-.4-.92-.59-1.43-.59-.52 0-1.04.2-1.43.59L10.3 9.45l-7.72 7.72c-.78.78-.78 2.05 0 2.83L4 21.41c.39.39.9.59 1.41.59.51 0 1.02-.2 1.41-.59l7.78-7.78 2.81-2.81c.8-.78.8-2.07 0-2.86zM5.41 20L4 18.59l7.72-7.72 1.47 1.35L5.41 20z\"/>\n",
              "  </svg>\n",
              "      </button>\n",
              "      \n",
              "  <style>\n",
              "    .colab-df-container {\n",
              "      display:flex;\n",
              "      flex-wrap:wrap;\n",
              "      gap: 12px;\n",
              "    }\n",
              "\n",
              "    .colab-df-convert {\n",
              "      background-color: #E8F0FE;\n",
              "      border: none;\n",
              "      border-radius: 50%;\n",
              "      cursor: pointer;\n",
              "      display: none;\n",
              "      fill: #1967D2;\n",
              "      height: 32px;\n",
              "      padding: 0 0 0 0;\n",
              "      width: 32px;\n",
              "    }\n",
              "\n",
              "    .colab-df-convert:hover {\n",
              "      background-color: #E2EBFA;\n",
              "      box-shadow: 0px 1px 2px rgba(60, 64, 67, 0.3), 0px 1px 3px 1px rgba(60, 64, 67, 0.15);\n",
              "      fill: #174EA6;\n",
              "    }\n",
              "\n",
              "    [theme=dark] .colab-df-convert {\n",
              "      background-color: #3B4455;\n",
              "      fill: #D2E3FC;\n",
              "    }\n",
              "\n",
              "    [theme=dark] .colab-df-convert:hover {\n",
              "      background-color: #434B5C;\n",
              "      box-shadow: 0px 1px 3px 1px rgba(0, 0, 0, 0.15);\n",
              "      filter: drop-shadow(0px 1px 2px rgba(0, 0, 0, 0.3));\n",
              "      fill: #FFFFFF;\n",
              "    }\n",
              "  </style>\n",
              "\n",
              "      <script>\n",
              "        const buttonEl =\n",
              "          document.querySelector('#df-a7f3b000-9b30-40f0-bef5-b2ab6f7817b7 button.colab-df-convert');\n",
              "        buttonEl.style.display =\n",
              "          google.colab.kernel.accessAllowed ? 'block' : 'none';\n",
              "\n",
              "        async function convertToInteractive(key) {\n",
              "          const element = document.querySelector('#df-a7f3b000-9b30-40f0-bef5-b2ab6f7817b7');\n",
              "          const dataTable =\n",
              "            await google.colab.kernel.invokeFunction('convertToInteractive',\n",
              "                                                     [key], {});\n",
              "          if (!dataTable) return;\n",
              "\n",
              "          const docLinkHtml = 'Like what you see? Visit the ' +\n",
              "            '<a target=\"_blank\" href=https://colab.research.google.com/notebooks/data_table.ipynb>data table notebook</a>'\n",
              "            + ' to learn more about interactive tables.';\n",
              "          element.innerHTML = '';\n",
              "          dataTable['output_type'] = 'display_data';\n",
              "          await google.colab.output.renderOutput(dataTable, element);\n",
              "          const docLink = document.createElement('div');\n",
              "          docLink.innerHTML = docLinkHtml;\n",
              "          element.appendChild(docLink);\n",
              "        }\n",
              "      </script>\n",
              "    </div>\n",
              "  </div>\n",
              "  "
            ]
          },
          "metadata": {},
          "execution_count": 65
        }
      ]
    },
    {
      "cell_type": "code",
      "source": [
        "data['Previous Close'] = data['Close'].shift(1)\n",
        "data['Return'] = (data['Close'] - data['Previous Close']) / data['Previous Close']\n",
        "data = data.iloc[1:]\n",
        "\n",
        "input_data = data[['Open', 'High', 'Low', 'Close', 'Volume']].values\n",
        "targets = data['Return'].values"
      ],
      "metadata": {
        "id": "Zk-COAmUw-NU"
      },
      "execution_count": 66,
      "outputs": []
    },
    {
      "cell_type": "code",
      "source": [
        "None in input_data"
      ],
      "metadata": {
        "colab": {
          "base_uri": "https://localhost:8080/"
        },
        "id": "8ymhCz32_puD",
        "outputId": "9fc86a87-84ca-4854-aecf-a98e50949be2"
      },
      "execution_count": 67,
      "outputs": [
        {
          "output_type": "execute_result",
          "data": {
            "text/plain": [
              "False"
            ]
          },
          "metadata": {},
          "execution_count": 67
        }
      ]
    },
    {
      "cell_type": "code",
      "source": [
        "# defining shapes\n",
        "T = 10\n",
        "D = input_data.shape[1]\n",
        "N = len(input_data) - T\n",
        "\n",
        "# normalize the data\n",
        "scaler = StandardScaler()\n",
        "scaler.fit(input_data[:len(input_data)*2//3 + T])\n",
        "input_data = scaler.transform(input_data)"
      ],
      "metadata": {
        "id": "1dRZoR9Zonp9"
      },
      "execution_count": 68,
      "outputs": []
    },
    {
      "cell_type": "code",
      "source": [
        "X_train = np.zeros((len(input_data)*2//3, T, D))\n",
        "Y_train = np.zeros(len(input_data)*2//3)\n",
        "\n",
        "for t in range(len(input_data)*2//3):\n",
        "  X_train[t, :, :] = input_data[t:t+T]\n",
        "  Y_train[t] = (targets[t+T] > 0)\n"
      ],
      "metadata": {
        "id": "K8M_hIk60BF5"
      },
      "execution_count": 69,
      "outputs": []
    },
    {
      "cell_type": "code",
      "source": [
        "X_test = np.zeros((N - len(input_data)*2//3, T, D))\n",
        "Y_test = np.zeros(N - len(input_data)*2//3)\n",
        "\n",
        "for i in range(N - len(input_data)*2//3):\n",
        "  a = i + len(input_data)*2//3\n",
        "  X_test[i, :, :] = input_data[a:a+T]\n",
        "  Y_test[i] = (targets[a+T] > 0)"
      ],
      "metadata": {
        "id": "s-xiZwro69Up"
      },
      "execution_count": 80,
      "outputs": []
    },
    {
      "cell_type": "code",
      "source": [
        "# compose a model\n",
        "i = Input(shape = (T,D))\n",
        "x = LSTM(50)(i)\n",
        "x = Dense(1, activation = 'sigmoid')(x)\n",
        "\n",
        "model = Model(i, x)\n",
        "model.compile(\n",
        "    loss='binary_crossentropy',\n",
        "    optimizer = Adam(learning_rate=0.01),\n",
        "    metrics = ['accuracy'],\n",
        ")"
      ],
      "metadata": {
        "id": "OtysYdaB9UVr"
      },
      "execution_count": 81,
      "outputs": []
    },
    {
      "cell_type": "code",
      "source": [
        "r = model.fit(\n",
        "    X_train, Y_train,\n",
        "    epochs = 80,\n",
        "    batch_size = 32,\n",
        "    validation_data = (X_test, Y_test),\n",
        ")"
      ],
      "metadata": {
        "colab": {
          "base_uri": "https://localhost:8080/"
        },
        "id": "FDZkn-lG9xWD",
        "outputId": "474bb21d-67f3-44e7-e61d-51744a8b37a6"
      },
      "execution_count": 82,
      "outputs": [
        {
          "output_type": "stream",
          "name": "stdout",
          "text": [
            "Epoch 1/80\n",
            "27/27 [==============================] - 5s 38ms/step - loss: 0.7135 - accuracy: 0.5084 - val_loss: 0.6943 - val_accuracy: 0.5012\n",
            "Epoch 2/80\n",
            "27/27 [==============================] - 0s 13ms/step - loss: 0.6923 - accuracy: 0.5334 - val_loss: 0.6972 - val_accuracy: 0.4963\n",
            "Epoch 3/80\n",
            "27/27 [==============================] - 0s 12ms/step - loss: 0.6880 - accuracy: 0.5465 - val_loss: 0.7018 - val_accuracy: 0.4914\n",
            "Epoch 4/80\n",
            "27/27 [==============================] - 0s 13ms/step - loss: 0.6876 - accuracy: 0.5442 - val_loss: 0.7028 - val_accuracy: 0.4743\n",
            "Epoch 5/80\n",
            "27/27 [==============================] - 0s 11ms/step - loss: 0.6879 - accuracy: 0.5537 - val_loss: 0.7167 - val_accuracy: 0.4694\n",
            "Epoch 6/80\n",
            "27/27 [==============================] - 0s 11ms/step - loss: 0.6842 - accuracy: 0.5609 - val_loss: 0.7129 - val_accuracy: 0.4792\n",
            "Epoch 7/80\n",
            "27/27 [==============================] - 0s 12ms/step - loss: 0.6834 - accuracy: 0.5573 - val_loss: 0.7191 - val_accuracy: 0.4743\n",
            "Epoch 8/80\n",
            "27/27 [==============================] - 0s 13ms/step - loss: 0.6823 - accuracy: 0.5465 - val_loss: 0.7103 - val_accuracy: 0.5061\n",
            "Epoch 9/80\n",
            "27/27 [==============================] - 0s 13ms/step - loss: 0.6800 - accuracy: 0.5513 - val_loss: 0.7133 - val_accuracy: 0.4817\n",
            "Epoch 10/80\n",
            "27/27 [==============================] - 0s 12ms/step - loss: 0.6743 - accuracy: 0.5800 - val_loss: 0.7535 - val_accuracy: 0.4523\n",
            "Epoch 11/80\n",
            "27/27 [==============================] - 0s 11ms/step - loss: 0.6709 - accuracy: 0.5728 - val_loss: 0.7267 - val_accuracy: 0.4914\n",
            "Epoch 12/80\n",
            "27/27 [==============================] - 0s 12ms/step - loss: 0.6662 - accuracy: 0.5907 - val_loss: 0.7423 - val_accuracy: 0.4768\n",
            "Epoch 13/80\n",
            "27/27 [==============================] - 0s 11ms/step - loss: 0.6749 - accuracy: 0.5716 - val_loss: 0.7710 - val_accuracy: 0.4621\n",
            "Epoch 14/80\n",
            "27/27 [==============================] - 0s 12ms/step - loss: 0.6707 - accuracy: 0.5811 - val_loss: 0.7540 - val_accuracy: 0.4645\n",
            "Epoch 15/80\n",
            "27/27 [==============================] - 0s 13ms/step - loss: 0.6614 - accuracy: 0.6038 - val_loss: 0.7543 - val_accuracy: 0.4645\n",
            "Epoch 16/80\n",
            "27/27 [==============================] - 0s 13ms/step - loss: 0.6624 - accuracy: 0.5859 - val_loss: 0.7718 - val_accuracy: 0.4963\n",
            "Epoch 17/80\n",
            "27/27 [==============================] - 0s 13ms/step - loss: 0.6507 - accuracy: 0.6289 - val_loss: 0.7933 - val_accuracy: 0.4597\n",
            "Epoch 18/80\n",
            "27/27 [==============================] - 0s 11ms/step - loss: 0.6407 - accuracy: 0.6146 - val_loss: 0.8190 - val_accuracy: 0.4597\n",
            "Epoch 19/80\n",
            "27/27 [==============================] - 0s 11ms/step - loss: 0.6289 - accuracy: 0.6372 - val_loss: 0.8158 - val_accuracy: 0.4670\n",
            "Epoch 20/80\n",
            "27/27 [==============================] - 0s 13ms/step - loss: 0.6523 - accuracy: 0.6050 - val_loss: 0.7886 - val_accuracy: 0.4694\n",
            "Epoch 21/80\n",
            "27/27 [==============================] - 0s 12ms/step - loss: 0.6420 - accuracy: 0.6360 - val_loss: 0.8297 - val_accuracy: 0.4768\n",
            "Epoch 22/80\n",
            "27/27 [==============================] - 0s 12ms/step - loss: 0.6318 - accuracy: 0.6408 - val_loss: 0.8183 - val_accuracy: 0.4792\n",
            "Epoch 23/80\n",
            "27/27 [==============================] - 0s 11ms/step - loss: 0.6174 - accuracy: 0.6360 - val_loss: 0.8440 - val_accuracy: 0.4548\n",
            "Epoch 24/80\n",
            "27/27 [==============================] - 0s 13ms/step - loss: 0.6104 - accuracy: 0.6444 - val_loss: 0.8572 - val_accuracy: 0.4792\n",
            "Epoch 25/80\n",
            "27/27 [==============================] - 0s 11ms/step - loss: 0.6157 - accuracy: 0.6647 - val_loss: 0.8986 - val_accuracy: 0.4890\n",
            "Epoch 26/80\n",
            "27/27 [==============================] - 0s 11ms/step - loss: 0.5938 - accuracy: 0.6718 - val_loss: 0.8807 - val_accuracy: 0.4914\n",
            "Epoch 27/80\n",
            "27/27 [==============================] - 0s 14ms/step - loss: 0.5923 - accuracy: 0.6766 - val_loss: 0.9047 - val_accuracy: 0.4645\n",
            "Epoch 28/80\n",
            "27/27 [==============================] - 0s 17ms/step - loss: 0.5562 - accuracy: 0.7041 - val_loss: 0.9331 - val_accuracy: 0.4670\n",
            "Epoch 29/80\n",
            "27/27 [==============================] - 0s 17ms/step - loss: 0.5258 - accuracy: 0.7327 - val_loss: 1.0050 - val_accuracy: 0.4841\n",
            "Epoch 30/80\n",
            "27/27 [==============================] - 0s 18ms/step - loss: 0.5239 - accuracy: 0.7279 - val_loss: 1.0618 - val_accuracy: 0.4572\n",
            "Epoch 31/80\n",
            "27/27 [==============================] - 0s 17ms/step - loss: 0.5110 - accuracy: 0.7327 - val_loss: 1.0948 - val_accuracy: 0.4866\n",
            "Epoch 32/80\n",
            "27/27 [==============================] - 0s 16ms/step - loss: 0.4798 - accuracy: 0.7494 - val_loss: 1.0445 - val_accuracy: 0.4548\n",
            "Epoch 33/80\n",
            "27/27 [==============================] - 0s 17ms/step - loss: 0.4478 - accuracy: 0.7852 - val_loss: 1.1083 - val_accuracy: 0.4719\n",
            "Epoch 34/80\n",
            "27/27 [==============================] - 0s 11ms/step - loss: 0.4529 - accuracy: 0.7888 - val_loss: 1.0983 - val_accuracy: 0.4621\n",
            "Epoch 35/80\n",
            "27/27 [==============================] - 0s 13ms/step - loss: 0.4493 - accuracy: 0.7947 - val_loss: 1.1091 - val_accuracy: 0.4621\n",
            "Epoch 36/80\n",
            "27/27 [==============================] - 0s 12ms/step - loss: 0.4012 - accuracy: 0.8234 - val_loss: 1.1605 - val_accuracy: 0.4621\n",
            "Epoch 37/80\n",
            "27/27 [==============================] - 0s 11ms/step - loss: 0.3730 - accuracy: 0.8198 - val_loss: 1.2013 - val_accuracy: 0.4670\n",
            "Epoch 38/80\n",
            "27/27 [==============================] - 0s 11ms/step - loss: 0.4991 - accuracy: 0.7554 - val_loss: 1.1056 - val_accuracy: 0.4817\n",
            "Epoch 39/80\n",
            "27/27 [==============================] - 0s 12ms/step - loss: 0.4571 - accuracy: 0.7685 - val_loss: 1.1259 - val_accuracy: 0.4645\n",
            "Epoch 40/80\n",
            "27/27 [==============================] - 0s 11ms/step - loss: 0.3637 - accuracy: 0.8401 - val_loss: 1.3065 - val_accuracy: 0.4401\n",
            "Epoch 41/80\n",
            "27/27 [==============================] - 0s 10ms/step - loss: 0.3417 - accuracy: 0.8496 - val_loss: 1.4025 - val_accuracy: 0.4450\n",
            "Epoch 42/80\n",
            "27/27 [==============================] - 0s 12ms/step - loss: 0.3494 - accuracy: 0.8520 - val_loss: 1.3569 - val_accuracy: 0.4645\n",
            "Epoch 43/80\n",
            "27/27 [==============================] - 0s 12ms/step - loss: 0.3061 - accuracy: 0.8675 - val_loss: 1.3816 - val_accuracy: 0.4621\n",
            "Epoch 44/80\n",
            "27/27 [==============================] - 0s 11ms/step - loss: 0.2794 - accuracy: 0.8914 - val_loss: 1.4310 - val_accuracy: 0.4572\n",
            "Epoch 45/80\n",
            "27/27 [==============================] - 0s 11ms/step - loss: 0.3474 - accuracy: 0.8461 - val_loss: 1.4036 - val_accuracy: 0.4474\n",
            "Epoch 46/80\n",
            "27/27 [==============================] - 0s 13ms/step - loss: 0.2760 - accuracy: 0.8711 - val_loss: 1.5585 - val_accuracy: 0.4499\n",
            "Epoch 47/80\n",
            "27/27 [==============================] - 0s 12ms/step - loss: 0.2917 - accuracy: 0.8699 - val_loss: 1.5234 - val_accuracy: 0.4597\n",
            "Epoch 48/80\n",
            "27/27 [==============================] - 0s 12ms/step - loss: 0.3340 - accuracy: 0.8628 - val_loss: 1.5773 - val_accuracy: 0.4719\n",
            "Epoch 49/80\n",
            "27/27 [==============================] - 0s 13ms/step - loss: 0.3926 - accuracy: 0.8138 - val_loss: 1.4572 - val_accuracy: 0.4670\n",
            "Epoch 50/80\n",
            "27/27 [==============================] - 0s 11ms/step - loss: 0.3310 - accuracy: 0.8532 - val_loss: 1.4677 - val_accuracy: 0.4719\n",
            "Epoch 51/80\n",
            "27/27 [==============================] - 0s 12ms/step - loss: 0.2543 - accuracy: 0.8866 - val_loss: 1.5336 - val_accuracy: 0.4768\n",
            "Epoch 52/80\n",
            "27/27 [==============================] - 0s 13ms/step - loss: 0.2326 - accuracy: 0.8986 - val_loss: 1.7958 - val_accuracy: 0.4425\n",
            "Epoch 53/80\n",
            "27/27 [==============================] - 0s 11ms/step - loss: 0.2049 - accuracy: 0.9200 - val_loss: 1.6792 - val_accuracy: 0.4572\n",
            "Epoch 54/80\n",
            "27/27 [==============================] - 0s 13ms/step - loss: 0.1592 - accuracy: 0.9415 - val_loss: 1.8302 - val_accuracy: 0.4377\n",
            "Epoch 55/80\n",
            "27/27 [==============================] - 0s 13ms/step - loss: 0.1506 - accuracy: 0.9368 - val_loss: 1.7561 - val_accuracy: 0.4939\n",
            "Epoch 56/80\n",
            "27/27 [==============================] - 0s 12ms/step - loss: 0.1563 - accuracy: 0.9415 - val_loss: 1.9081 - val_accuracy: 0.4474\n",
            "Epoch 57/80\n",
            "27/27 [==============================] - 0s 13ms/step - loss: 0.3787 - accuracy: 0.8377 - val_loss: 1.5053 - val_accuracy: 0.5061\n",
            "Epoch 58/80\n",
            "27/27 [==============================] - 0s 12ms/step - loss: 0.3840 - accuracy: 0.8126 - val_loss: 1.3570 - val_accuracy: 0.4866\n",
            "Epoch 59/80\n",
            "27/27 [==============================] - 0s 12ms/step - loss: 0.2847 - accuracy: 0.8628 - val_loss: 1.5496 - val_accuracy: 0.4768\n",
            "Epoch 60/80\n",
            "27/27 [==============================] - 0s 12ms/step - loss: 0.2587 - accuracy: 0.8819 - val_loss: 1.6469 - val_accuracy: 0.4743\n",
            "Epoch 61/80\n",
            "27/27 [==============================] - 0s 12ms/step - loss: 0.2285 - accuracy: 0.8986 - val_loss: 1.6573 - val_accuracy: 0.4743\n",
            "Epoch 62/80\n",
            "27/27 [==============================] - 0s 11ms/step - loss: 0.1799 - accuracy: 0.9344 - val_loss: 1.7633 - val_accuracy: 0.4792\n",
            "Epoch 63/80\n",
            "27/27 [==============================] - 0s 12ms/step - loss: 0.1952 - accuracy: 0.9236 - val_loss: 1.6327 - val_accuracy: 0.4670\n",
            "Epoch 64/80\n",
            "27/27 [==============================] - 0s 17ms/step - loss: 0.2161 - accuracy: 0.9057 - val_loss: 1.7411 - val_accuracy: 0.4719\n",
            "Epoch 65/80\n",
            "27/27 [==============================] - 0s 17ms/step - loss: 0.1879 - accuracy: 0.9189 - val_loss: 1.8385 - val_accuracy: 0.4792\n",
            "Epoch 66/80\n",
            "27/27 [==============================] - 0s 17ms/step - loss: 0.2124 - accuracy: 0.9260 - val_loss: 1.8163 - val_accuracy: 0.4914\n",
            "Epoch 67/80\n",
            "27/27 [==============================] - 0s 18ms/step - loss: 0.1876 - accuracy: 0.9332 - val_loss: 1.8622 - val_accuracy: 0.4866\n",
            "Epoch 68/80\n",
            "27/27 [==============================] - 1s 21ms/step - loss: 0.2128 - accuracy: 0.9177 - val_loss: 1.8539 - val_accuracy: 0.4743\n",
            "Epoch 69/80\n",
            "27/27 [==============================] - 1s 23ms/step - loss: 0.2554 - accuracy: 0.8950 - val_loss: 1.8772 - val_accuracy: 0.4719\n",
            "Epoch 70/80\n",
            "27/27 [==============================] - 0s 12ms/step - loss: 0.3070 - accuracy: 0.8711 - val_loss: 1.7779 - val_accuracy: 0.4939\n",
            "Epoch 71/80\n",
            "27/27 [==============================] - 0s 12ms/step - loss: 0.2421 - accuracy: 0.9057 - val_loss: 1.7166 - val_accuracy: 0.4670\n",
            "Epoch 72/80\n",
            "27/27 [==============================] - 0s 11ms/step - loss: 0.2490 - accuracy: 0.9081 - val_loss: 1.7260 - val_accuracy: 0.4841\n",
            "Epoch 73/80\n",
            "27/27 [==============================] - 0s 13ms/step - loss: 0.2078 - accuracy: 0.9248 - val_loss: 1.8407 - val_accuracy: 0.4499\n",
            "Epoch 74/80\n",
            "27/27 [==============================] - 0s 12ms/step - loss: 0.1767 - accuracy: 0.9368 - val_loss: 1.7931 - val_accuracy: 0.4523\n",
            "Epoch 75/80\n",
            "27/27 [==============================] - 0s 12ms/step - loss: 0.1645 - accuracy: 0.9320 - val_loss: 1.6083 - val_accuracy: 0.4792\n",
            "Epoch 76/80\n",
            "27/27 [==============================] - 0s 12ms/step - loss: 0.1310 - accuracy: 0.9511 - val_loss: 1.8309 - val_accuracy: 0.4768\n",
            "Epoch 77/80\n",
            "27/27 [==============================] - 0s 12ms/step - loss: 0.1001 - accuracy: 0.9690 - val_loss: 1.9167 - val_accuracy: 0.4694\n",
            "Epoch 78/80\n",
            "27/27 [==============================] - 0s 13ms/step - loss: 0.0837 - accuracy: 0.9737 - val_loss: 1.9693 - val_accuracy: 0.4890\n",
            "Epoch 79/80\n",
            "27/27 [==============================] - 0s 12ms/step - loss: 0.0696 - accuracy: 0.9797 - val_loss: 2.0905 - val_accuracy: 0.4694\n",
            "Epoch 80/80\n",
            "27/27 [==============================] - 0s 12ms/step - loss: 0.0625 - accuracy: 0.9797 - val_loss: 2.1828 - val_accuracy: 0.4645\n"
          ]
        }
      ]
    },
    {
      "cell_type": "code",
      "source": [
        "plt.plot(r.history['loss'], label = 'loss')\n",
        "plt.plot(r.history['val_loss'], label = 'val_loss')\n",
        "plt.legend()\n",
        "plt.title(\"Loss Plot\")\n",
        "plt.show()"
      ],
      "metadata": {
        "colab": {
          "base_uri": "https://localhost:8080/",
          "height": 281
        },
        "id": "QkMrewnA98GB",
        "outputId": "6a814862-2382-42f7-cd92-fc683378c70b"
      },
      "execution_count": 83,
      "outputs": [
        {
          "output_type": "display_data",
          "data": {
            "text/plain": [
              "<Figure size 432x288 with 1 Axes>"
            ],
            "image/png": "[encoded data removed]"
          },
          "metadata": {
            "needs_background": "light"
          }
        }
      ]
    },
    {
      "cell_type": "code",
      "source": [
        "plt.plot(r.history['accuracy'], label='accuracy')\n",
        "plt.plot(r.history['val_accuracy'], label='val_accuracy')\n",
        "plt.title('Accuracy Plot')\n",
        "plt.legend()\n",
        "plt.show()"
      ],
      "metadata": {
        "colab": {
          "base_uri": "https://localhost:8080/",
          "height": 281
        },
        "id": "Vbi-qWwt-Kou",
        "outputId": "100b5a30-7461-49c2-9c14-8c860c955084"
      },
      "execution_count": 84,
      "outputs": [
        {
          "output_type": "display_data",
          "data": {
            "text/plain": [
              "<Figure size 432x288 with 1 Axes>"
            ],
            "image/png": "[encoded data removed]"
          },
          "metadata": {
            "needs_background": "light"
          }
        }
      ]
    },
    {
      "cell_type": "markdown",
      "source": [
        "Even the stock's next step magnitude could not be predicted."
      ],
      "metadata": {
        "id": "GlDhHGb4B6Dv"
      }
    },
    {
      "cell_type": "markdown",
      "source": [
        "### Practice. Predicting Random Walk"
      ],
      "metadata": {
        "id": "JWqSyn2gEtIR"
      }
    },
    {
      "cell_type": "code",
      "source": [
        "import numpy as np\n",
        "from numpy import random\n",
        "import matplotlib.pyplot as plt\n",
        "\n",
        "x = []\n",
        "def random_walk(steps = 1000, dir = (-1,0,1), origin = 0):\n",
        "  for i in range(steps):\n",
        "      origin += random.choice(dir)\n",
        "      x.append(origin)\n",
        "  return x\n",
        "\n",
        "values = random_walk()\n",
        "values = np.array(values).reshape(-1,1)\n",
        "\n",
        "scaler = StandardScaler()\n",
        "scaler.fit(values[:len(values)//2])\n",
        "values = scaler.transform(values).flatten()\n",
        "\n",
        "plt.plot(values)"
      ],
      "metadata": {
        "colab": {
          "base_uri": "https://localhost:8080/",
          "height": 282
        },
        "id": "5KfaysOd_jPX",
        "outputId": "eb0d4760-9714-4422-bd92-19a48514a67e"
      },
      "execution_count": 114,
      "outputs": [
        {
          "output_type": "execute_result",
          "data": {
            "text/plain": [
              "[<matplotlib.lines.Line2D at 0x7fd8033f87f0>]"
            ]
          },
          "metadata": {},
          "execution_count": 114
        },
        {
          "output_type": "display_data",
          "data": {
            "text/plain": [
              "<Figure size 432x288 with 1 Axes>"
            ],
            "image/png": "[encoded data removed]"
          },
          "metadata": {
            "needs_background": "light"
          }
        }
      ]
    },
    {
      "cell_type": "code",
      "source": [
        "T = 10\n",
        "D = 1\n",
        "X,Y = [],[]\n",
        "\n",
        "for i in range(len(values) - T):\n",
        "  x = values[i:i+T]  # first ten values\n",
        "  X.append(x)\n",
        "  y = values[i+T]   # eleventh value\n",
        "  Y.append(y)\n",
        "\n",
        "X = np.array(X).reshape(-1, T, 1)\n",
        "Y = np.array(Y)\n",
        "N = len(X)\n",
        "print(f'X.shape {X.shape} Y.shape {Y.shape}')\n"
      ],
      "metadata": {
        "colab": {
          "base_uri": "https://localhost:8080/"
        },
        "id": "y5jg9ycDFPU9",
        "outputId": "8d1c952a-8535-4169-df3c-257e6a6481d0"
      },
      "execution_count": 117,
      "outputs": [
        {
          "output_type": "stream",
          "name": "stdout",
          "text": [
            "X.shape (990, 10, 1) Y.shape (990,)\n"
          ]
        }
      ]
    },
    {
      "cell_type": "code",
      "source": [
        "i = Input(shape = (T,1))\n",
        "x = LSTM(5)(i)\n",
        "x = Dense(1)(x)\n",
        "\n",
        "model = Model(i,x)\n",
        "model.compile(\n",
        "    loss = 'mse',\n",
        "    optimizer = Adam(learning_rate=0.1),\n",
        ")"
      ],
      "metadata": {
        "id": "LTaWK4obPIPN"
      },
      "execution_count": 125,
      "outputs": []
    },
    {
      "cell_type": "code",
      "source": [
        "r = model.fit(\n",
        "    X[:-N//2], Y[:-N//2],\n",
        "    epochs = 100,\n",
        "    validation_data = (X[-N//2:], Y[-N//2:]),\n",
        ")"
      ],
      "metadata": {
        "colab": {
          "base_uri": "https://localhost:8080/"
        },
        "id": "Z7lthTg0RLNy",
        "outputId": "2f5e59e4-737a-4fde-f341-2128f58beee9"
      },
      "execution_count": 126,
      "outputs": [
        {
          "output_type": "stream",
          "name": "stdout",
          "text": [
            "Epoch 1/100\n",
            "16/16 [==============================] - 4s 47ms/step - loss: 0.1128 - val_loss: 2.0374\n",
            "Epoch 2/100\n",
            "16/16 [==============================] - 0s 13ms/step - loss: 0.0236 - val_loss: 2.9289\n",
            "Epoch 3/100\n",
            "16/16 [==============================] - 0s 12ms/step - loss: 0.0129 - val_loss: 1.5174\n",
            "Epoch 4/100\n",
            "16/16 [==============================] - 0s 12ms/step - loss: 0.0107 - val_loss: 1.3886\n",
            "Epoch 5/100\n",
            "16/16 [==============================] - 0s 12ms/step - loss: 0.0141 - val_loss: 1.3193\n",
            "Epoch 6/100\n",
            "16/16 [==============================] - 0s 12ms/step - loss: 0.0142 - val_loss: 1.0848\n",
            "Epoch 7/100\n",
            "16/16 [==============================] - 0s 12ms/step - loss: 0.0109 - val_loss: 1.0123\n",
            "Epoch 8/100\n",
            "16/16 [==============================] - 0s 11ms/step - loss: 0.0099 - val_loss: 0.8902\n",
            "Epoch 9/100\n",
            "16/16 [==============================] - 0s 12ms/step - loss: 0.0107 - val_loss: 0.8798\n",
            "Epoch 10/100\n",
            "16/16 [==============================] - 0s 13ms/step - loss: 0.0105 - val_loss: 0.7583\n",
            "Epoch 11/100\n",
            "16/16 [==============================] - 0s 12ms/step - loss: 0.0112 - val_loss: 0.9117\n",
            "Epoch 12/100\n",
            "16/16 [==============================] - 0s 13ms/step - loss: 0.0088 - val_loss: 0.8529\n",
            "Epoch 13/100\n",
            "16/16 [==============================] - 0s 11ms/step - loss: 0.0084 - val_loss: 0.7871\n",
            "Epoch 14/100\n",
            "16/16 [==============================] - 0s 12ms/step - loss: 0.0108 - val_loss: 0.7579\n",
            "Epoch 15/100\n",
            "16/16 [==============================] - 0s 12ms/step - loss: 0.0114 - val_loss: 0.8881\n",
            "Epoch 16/100\n",
            "16/16 [==============================] - 0s 13ms/step - loss: 0.0132 - val_loss: 0.9087\n",
            "Epoch 17/100\n",
            "16/16 [==============================] - 0s 13ms/step - loss: 0.0089 - val_loss: 1.0797\n",
            "Epoch 18/100\n",
            "16/16 [==============================] - 0s 12ms/step - loss: 0.0093 - val_loss: 0.7594\n",
            "Epoch 19/100\n",
            "16/16 [==============================] - 0s 13ms/step - loss: 0.0087 - val_loss: 0.6472\n",
            "Epoch 20/100\n",
            "16/16 [==============================] - 0s 14ms/step - loss: 0.0089 - val_loss: 0.7037\n",
            "Epoch 21/100\n",
            "16/16 [==============================] - 0s 13ms/step - loss: 0.0083 - val_loss: 0.7862\n",
            "Epoch 22/100\n",
            "16/16 [==============================] - 0s 13ms/step - loss: 0.0087 - val_loss: 0.7324\n",
            "Epoch 23/100\n",
            "16/16 [==============================] - 0s 12ms/step - loss: 0.0094 - val_loss: 0.7715\n",
            "Epoch 24/100\n",
            "16/16 [==============================] - 0s 12ms/step - loss: 0.0079 - val_loss: 0.8602\n",
            "Epoch 25/100\n",
            "16/16 [==============================] - 0s 13ms/step - loss: 0.0092 - val_loss: 0.6977\n",
            "Epoch 26/100\n",
            "16/16 [==============================] - 0s 13ms/step - loss: 0.0118 - val_loss: 0.8569\n",
            "Epoch 27/100\n",
            "16/16 [==============================] - 0s 12ms/step - loss: 0.0094 - val_loss: 0.6751\n",
            "Epoch 28/100\n",
            "16/16 [==============================] - 0s 13ms/step - loss: 0.0083 - val_loss: 0.7115\n",
            "Epoch 29/100\n",
            "16/16 [==============================] - 0s 13ms/step - loss: 0.0086 - val_loss: 0.6141\n",
            "Epoch 30/100\n",
            "16/16 [==============================] - 0s 13ms/step - loss: 0.0087 - val_loss: 0.6978\n",
            "Epoch 31/100\n",
            "16/16 [==============================] - 0s 12ms/step - loss: 0.0096 - val_loss: 0.8484\n",
            "Epoch 32/100\n",
            "16/16 [==============================] - 0s 13ms/step - loss: 0.0095 - val_loss: 0.7227\n",
            "Epoch 33/100\n",
            "16/16 [==============================] - 0s 13ms/step - loss: 0.0085 - val_loss: 0.6245\n",
            "Epoch 34/100\n",
            "16/16 [==============================] - 0s 12ms/step - loss: 0.0088 - val_loss: 0.5347\n",
            "Epoch 35/100\n",
            "16/16 [==============================] - 0s 12ms/step - loss: 0.0109 - val_loss: 0.6612\n",
            "Epoch 36/100\n",
            "16/16 [==============================] - 0s 18ms/step - loss: 0.0094 - val_loss: 0.6527\n",
            "Epoch 37/100\n",
            "16/16 [==============================] - 0s 17ms/step - loss: 0.0098 - val_loss: 0.5701\n",
            "Epoch 38/100\n",
            "16/16 [==============================] - 0s 16ms/step - loss: 0.0095 - val_loss: 0.6372\n",
            "Epoch 39/100\n",
            "16/16 [==============================] - 0s 18ms/step - loss: 0.0083 - val_loss: 0.5398\n",
            "Epoch 40/100\n",
            "16/16 [==============================] - 0s 16ms/step - loss: 0.0096 - val_loss: 0.5487\n",
            "Epoch 41/100\n",
            "16/16 [==============================] - 0s 20ms/step - loss: 0.0082 - val_loss: 0.6459\n",
            "Epoch 42/100\n",
            "16/16 [==============================] - 0s 18ms/step - loss: 0.0078 - val_loss: 0.6777\n",
            "Epoch 43/100\n",
            "16/16 [==============================] - 0s 19ms/step - loss: 0.0090 - val_loss: 0.5772\n",
            "Epoch 44/100\n",
            "16/16 [==============================] - 0s 17ms/step - loss: 0.0092 - val_loss: 0.6883\n",
            "Epoch 45/100\n",
            "16/16 [==============================] - 0s 19ms/step - loss: 0.0094 - val_loss: 0.5133\n",
            "Epoch 46/100\n",
            "16/16 [==============================] - 0s 14ms/step - loss: 0.0093 - val_loss: 0.5735\n",
            "Epoch 47/100\n",
            "16/16 [==============================] - 0s 15ms/step - loss: 0.0094 - val_loss: 0.4635\n",
            "Epoch 48/100\n",
            "16/16 [==============================] - 0s 14ms/step - loss: 0.0089 - val_loss: 0.4846\n",
            "Epoch 49/100\n",
            "16/16 [==============================] - 0s 13ms/step - loss: 0.0093 - val_loss: 0.8707\n",
            "Epoch 50/100\n",
            "16/16 [==============================] - 0s 12ms/step - loss: 0.0097 - val_loss: 0.5664\n",
            "Epoch 51/100\n",
            "16/16 [==============================] - 0s 14ms/step - loss: 0.0120 - val_loss: 0.4382\n",
            "Epoch 52/100\n",
            "16/16 [==============================] - 0s 14ms/step - loss: 0.0117 - val_loss: 0.5983\n",
            "Epoch 53/100\n",
            "16/16 [==============================] - 0s 12ms/step - loss: 0.0095 - val_loss: 0.6807\n",
            "Epoch 54/100\n",
            "16/16 [==============================] - 0s 12ms/step - loss: 0.0105 - val_loss: 0.6918\n",
            "Epoch 55/100\n",
            "16/16 [==============================] - 0s 14ms/step - loss: 0.0105 - val_loss: 0.5714\n",
            "Epoch 56/100\n",
            "16/16 [==============================] - 0s 13ms/step - loss: 0.0084 - val_loss: 0.7177\n",
            "Epoch 57/100\n",
            "16/16 [==============================] - 0s 15ms/step - loss: 0.0084 - val_loss: 0.6581\n",
            "Epoch 58/100\n",
            "16/16 [==============================] - 0s 14ms/step - loss: 0.0108 - val_loss: 0.4999\n",
            "Epoch 59/100\n",
            "16/16 [==============================] - 0s 15ms/step - loss: 0.0091 - val_loss: 0.6558\n",
            "Epoch 60/100\n",
            "16/16 [==============================] - 0s 12ms/step - loss: 0.0090 - val_loss: 0.6575\n",
            "Epoch 61/100\n",
            "16/16 [==============================] - 0s 14ms/step - loss: 0.0089 - val_loss: 0.5033\n",
            "Epoch 62/100\n",
            "16/16 [==============================] - 0s 13ms/step - loss: 0.0092 - val_loss: 0.5862\n",
            "Epoch 63/100\n",
            "16/16 [==============================] - 0s 13ms/step - loss: 0.0084 - val_loss: 0.5714\n",
            "Epoch 64/100\n",
            "16/16 [==============================] - 0s 12ms/step - loss: 0.0098 - val_loss: 0.6599\n",
            "Epoch 65/100\n",
            "16/16 [==============================] - 0s 16ms/step - loss: 0.0111 - val_loss: 0.6019\n",
            "Epoch 66/100\n",
            "16/16 [==============================] - 0s 12ms/step - loss: 0.0104 - val_loss: 0.4322\n",
            "Epoch 67/100\n",
            "16/16 [==============================] - 0s 15ms/step - loss: 0.0088 - val_loss: 0.7678\n",
            "Epoch 68/100\n",
            "16/16 [==============================] - 0s 13ms/step - loss: 0.0087 - val_loss: 0.8207\n",
            "Epoch 69/100\n",
            "16/16 [==============================] - 0s 14ms/step - loss: 0.0098 - val_loss: 0.4143\n",
            "Epoch 70/100\n",
            "16/16 [==============================] - 0s 12ms/step - loss: 0.0141 - val_loss: 0.6701\n",
            "Epoch 71/100\n",
            "16/16 [==============================] - 0s 14ms/step - loss: 0.0111 - val_loss: 0.7402\n",
            "Epoch 72/100\n",
            "16/16 [==============================] - 0s 12ms/step - loss: 0.0096 - val_loss: 0.5407\n",
            "Epoch 73/100\n",
            "16/16 [==============================] - 0s 12ms/step - loss: 0.0078 - val_loss: 0.4968\n",
            "Epoch 74/100\n",
            "16/16 [==============================] - 0s 14ms/step - loss: 0.0079 - val_loss: 0.8014\n",
            "Epoch 75/100\n",
            "16/16 [==============================] - 0s 14ms/step - loss: 0.0081 - val_loss: 0.5708\n",
            "Epoch 76/100\n",
            "16/16 [==============================] - 0s 12ms/step - loss: 0.0081 - val_loss: 0.7206\n",
            "Epoch 77/100\n",
            "16/16 [==============================] - 0s 12ms/step - loss: 0.0087 - val_loss: 0.6073\n",
            "Epoch 78/100\n",
            "16/16 [==============================] - 0s 14ms/step - loss: 0.0095 - val_loss: 0.4773\n",
            "Epoch 79/100\n",
            "16/16 [==============================] - 0s 12ms/step - loss: 0.0093 - val_loss: 0.7390\n",
            "Epoch 80/100\n",
            "16/16 [==============================] - 0s 13ms/step - loss: 0.0082 - val_loss: 0.5868\n",
            "Epoch 81/100\n",
            "16/16 [==============================] - 0s 14ms/step - loss: 0.0083 - val_loss: 0.6131\n",
            "Epoch 82/100\n",
            "16/16 [==============================] - 0s 13ms/step - loss: 0.0097 - val_loss: 0.4808\n",
            "Epoch 83/100\n",
            "16/16 [==============================] - 0s 14ms/step - loss: 0.0107 - val_loss: 0.9755\n",
            "Epoch 84/100\n",
            "16/16 [==============================] - 0s 13ms/step - loss: 0.0088 - val_loss: 0.5707\n",
            "Epoch 85/100\n",
            "16/16 [==============================] - 0s 14ms/step - loss: 0.0088 - val_loss: 0.5957\n",
            "Epoch 86/100\n",
            "16/16 [==============================] - 0s 15ms/step - loss: 0.0084 - val_loss: 0.5055\n",
            "Epoch 87/100\n",
            "16/16 [==============================] - 0s 13ms/step - loss: 0.0093 - val_loss: 0.5778\n",
            "Epoch 88/100\n",
            "16/16 [==============================] - 0s 12ms/step - loss: 0.0108 - val_loss: 0.7271\n",
            "Epoch 89/100\n",
            "16/16 [==============================] - 0s 14ms/step - loss: 0.0093 - val_loss: 0.5619\n",
            "Epoch 90/100\n",
            "16/16 [==============================] - 0s 12ms/step - loss: 0.0089 - val_loss: 0.5797\n",
            "Epoch 91/100\n",
            "16/16 [==============================] - 0s 15ms/step - loss: 0.0083 - val_loss: 0.6096\n",
            "Epoch 92/100\n",
            "16/16 [==============================] - 0s 20ms/step - loss: 0.0080 - val_loss: 0.6641\n",
            "Epoch 93/100\n",
            "16/16 [==============================] - 0s 18ms/step - loss: 0.0083 - val_loss: 0.6556\n",
            "Epoch 94/100\n",
            "16/16 [==============================] - 0s 18ms/step - loss: 0.0081 - val_loss: 0.5654\n",
            "Epoch 95/100\n",
            "16/16 [==============================] - 0s 19ms/step - loss: 0.0085 - val_loss: 0.5964\n",
            "Epoch 96/100\n",
            "16/16 [==============================] - 0s 25ms/step - loss: 0.0093 - val_loss: 0.6152\n",
            "Epoch 97/100\n",
            "16/16 [==============================] - 0s 18ms/step - loss: 0.0096 - val_loss: 0.8309\n",
            "Epoch 98/100\n",
            "16/16 [==============================] - 0s 19ms/step - loss: 0.0111 - val_loss: 0.4618\n",
            "Epoch 99/100\n",
            "16/16 [==============================] - 0s 20ms/step - loss: 0.0109 - val_loss: 0.5852\n",
            "Epoch 100/100\n",
            "16/16 [==============================] - 0s 19ms/step - loss: 0.0103 - val_loss: 0.8377\n"
          ]
        }
      ]
    },
    {
      "cell_type": "code",
      "source": [
        "plt.plot(r.history['loss'], label = 'loss')\n",
        "plt.plot(r.history['val_loss'], label = 'val_loss')\n",
        "plt.title(\"Loss Plot\")\n",
        "plt.legend()\n",
        "plt.show()"
      ],
      "metadata": {
        "colab": {
          "base_uri": "https://localhost:8080/",
          "height": 281
        },
        "id": "5S-0RaZaRu_L",
        "outputId": "60ae0574-45ad-4dfb-be15-5bd194b41005"
      },
      "execution_count": 127,
      "outputs": [
        {
          "output_type": "display_data",
          "data": {
            "text/plain": [
              "<Figure size 432x288 with 1 Axes>"
            ],
            "image/png": "[encoded data removed]"
          },
          "metadata": {
            "needs_background": "light"
          }
        }
      ]
    },
    {
      "cell_type": "code",
      "source": [
        "predictions = model.predict(X[-N//2:])\n",
        "plt.plot(predictions, label = 'predictions')\n",
        "plt.plot(Y[-N//2:], label = 'true')\n",
        "plt.title(\"Predictions vs True Values\")\n",
        "plt.legend()\n",
        "plt.show()"
      ],
      "metadata": {
        "colab": {
          "base_uri": "https://localhost:8080/",
          "height": 298
        },
        "id": "HA68y7tzT2Pu",
        "outputId": "83c2064b-19a5-4abc-8a5a-e9a4f6ba686a"
      },
      "execution_count": 128,
      "outputs": [
        {
          "output_type": "stream",
          "name": "stdout",
          "text": [
            "16/16 [==============================] - 1s 3ms/step\n"
          ]
        },
        {
          "output_type": "display_data",
          "data": {
            "text/plain": [
              "<Figure size 432x288 with 1 Axes>"
            ],
            "image/png": "[encoded data removed]"
          },
          "metadata": {
            "needs_background": "light"
          }
        }
      ]
    },
    {
      "cell_type": "code",
      "source": [
        "print(model.predict(X[-1:]))"
      ],
      "metadata": {
        "colab": {
          "base_uri": "https://localhost:8080/"
        },
        "id": "dSD-mm91UhRe",
        "outputId": "b2ebedbf-dbdc-443e-c0bb-f82785775136"
      },
      "execution_count": 131,
      "outputs": [
        {
          "output_type": "stream",
          "name": "stdout",
          "text": [
            "1/1 [==============================] - 0s 44ms/step\n",
            "[[-2.4404068]]\n"
          ]
        }
      ]
    },
    {
      "cell_type": "code",
      "source": [],
      "metadata": {
        "id": "2_PeR43dUxUr"
      },
      "execution_count": null,
      "outputs": []
    }
  ]
}